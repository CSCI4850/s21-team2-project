{
 "metadata": {
  "language_info": {
   "codemirror_mode": {
    "name": "ipython",
    "version": 3
   },
   "file_extension": ".py",
   "mimetype": "text/x-python",
   "name": "python",
   "nbconvert_exporter": "python",
   "pygments_lexer": "ipython3",
   "version": 3
  },
  "orig_nbformat": 2
 },
 "nbformat": 4,
 "nbformat_minor": 2,
 "cells": [
  {
   "source": [
    "| *Deliverable* | | *Percent Complete* |  | *Estimated Completion Date* | | *Percent Complete by Next Milestone* |\n",
    "| :---------- | :--: | :---------- | :--: | :---------- | :-----------: | :------- | --------------------------: |\n",
    "| Code | | 40% | | April 21 | | 60% |\n",
    "| Paper | | 35% | | April 23 | | 50% |\n",
    "| Demo | | 0% | | May 1 | | 0% |\n",
    "| Presentation | | 0% | | May 3 | | 0% |\n"
   ],
   "cell_type": "markdown",
   "metadata": {}
  },
  {
   "source": [
    "# I.\n",
    "\n",
    "1. Jared Frazier: Encoding scheme determined.\n",
    "2. Deven Kennedy: Look into GANs. \n",
    "3. Romario Nan: Still working on the code.\n",
    "4. Ethan Lawing: read and research performance metrics. \n",
    "\n",
    "# II.\n",
    "1. Jared Frazier: Chordified (monophonoic, i.e., single instrument) but dimensionality of input is too large.\n",
   
    "\n",
    "# III.\n",
    "\n",
    "Main deliverables: <br/>\n",
    "1. Jared Frazier: Prototype LSTM. <br/>\n",
    "2. Deven Kennedy: upload a report about GANs.<br/>\n",
    "3. Romario Nan: get the code to work with MIDI.<br/>\n",
    "4. Ethan Lawing: word document started with some notes on possible Performance Metrics.<br/>"
   ],
   "cell_type": "markdown",
   "metadata": {}
  },
  {
   "cell_type": "code",
   "execution_count": null,
   "metadata": {},
   "outputs": [],
   "source": []
  }
 ]
}
