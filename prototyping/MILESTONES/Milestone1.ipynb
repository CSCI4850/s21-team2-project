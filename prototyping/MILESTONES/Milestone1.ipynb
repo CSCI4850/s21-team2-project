{
 "metadata": {
  "language_info": {
   "codemirror_mode": {
    "name": "ipython",
    "version": 3
   },
   "file_extension": ".py",
   "mimetype": "text/x-python",
   "name": "python",
   "nbconvert_exporter": "python",
   "pygments_lexer": "ipython3",
   "version": 3
  },
  "orig_nbformat": 2
 },
 "nbformat": 4,
 "nbformat_minor": 2,
 "cells": [
  {
   "source": [
    "| *Deliverable* | | *Percent Complete* |  | *Estimated Completion Date* | | *Percent Complete by Next Milestone* |\n",
    "| :---------- | :--: | :---------- | :--: | :---------- | :-----------: | :------- | --------------------------: |\n",
    "| Code | | 0% | | April 21 | | 20% |\n",
    "| Paper | | 0% | | April 23 | | 20% |\n",
    "| Demo | | 0% | | May 1 | | 0% |\n",
    "| Presentation | | 0% | | May 3 | | 0% |\n"
   ],
   "cell_type": "markdown",
   "metadata": {}
  },
  {
   "source": [
    "# I.\n",
    "\n",
    "First  milestone report.\n",
    "\n",
    "# II.\n",
    "\n",
    "N/A\n",
    "\n",
    "# III.\n",
    "\n",
    "Main deliverables: <br/>\n",
    "1. Jared Frazier: Download data from VGMusic and test data processing libraries *pretty_midi* and *Music21*.<br/>\n",
    "2. Deven Kennedy: Expand introduction section.<br/>\n",
    "3. Romario Nan: Prototype music generator based on canonical examples (classical music, etc.).<br/>\n",
    "4. Ethan Lawing: Expand performance metrics section.<br/>"
   ],
   "cell_type": "markdown",
   "metadata": {}
  },
  {
   "source": [],
   "cell_type": "markdown",
   "metadata": {}
  }
 ]
}