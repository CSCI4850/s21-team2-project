{
 "metadata": {
  "language_info": {
   "codemirror_mode": {
    "name": "ipython",
    "version": 3
   },
   "file_extension": ".py",
   "mimetype": "text/x-python",
   "name": "python",
   "nbconvert_exporter": "python",
   "pygments_lexer": "ipython3",
   "version": 3
  },
  "orig_nbformat": 2
 },
 "nbformat": 4,
 "nbformat_minor": 2,
 "cells": [
  {
   "source": [
    "| *Deliverable* | | *Percent Complete* |  | *Estimated Completion Date* | | *Percent Complete by Next Milestone* |\n",
    "| :---------- | :--: | :---------- | :--: | :---------- | :-----------: | :------- | --------------------------: |\n",
    "| Code | | 15% | | April 21 | | 25% |\n",
    "| Paper | | 15% | | April 23 | | 30% |\n",
    "| Demo | | 0% | | May 1 | | 0% |\n",
    "| Presentation | | 0% | | May 3 | | 0% |\n"
   ],
   "cell_type": "markdown",
   "metadata": {}
  },
  {
   "source": [
    "# I.\n",
    "\n",
    "1. Jared Frazier created a prototype web scraper which may be used download video game music MIDI files. All MIDI files for Castlevania 1 through 3 were downloaded. The script currently has no user interface, which is acceptable for now.\n",
    "2. Deven Kennedy: Got work done on the introduction section. \n",
    "3. Romario Nan: Found few online codes that did the same project as us. working on a Python note book to do generate music right now.\n",
    "4. Ethan Lawing: looking at the performance metrics section. \n",
    "\n",
    "# II.\n",
    " 1. Jared Frazier did not explore the MIDI data. However, now that we have a script to scrape data, we can play around with it much more easily than before.\n",
    " 3. Romario Nan: I was trying some few ways to do the project, but I ran into some bugs. Luckily, there is few stackoverflow pages about the same issues. I am in the process of fixing it.\n",
    "\n",
    "# III.\n",
    "\n",
    "Main deliverables: <br/>\n",
    "1. Jared Frazier: Make the scraper script more user friendly with tkinter, and then explore the data with libraries such as ```pretty_midi``` and ```Music21```.<br/>\n",
    "2. Deven Kennedy: Expand introduction section.<br/>\n",
    "3. Romario Nan: Finish debugging the model and it's weights. Using RamyaVidiyala Github Music_generation.ipynb as a starting point. <br/>\n",
    "4. Ethan Lawing: Expand performance metrics section.<br/>"
   ],
   "cell_type": "markdown",
   "metadata": {}
  },
  {
   "cell_type": "code",
   "execution_count": null,
   "metadata": {},
   "outputs": [],
   "source": []
  }
 ]
}
