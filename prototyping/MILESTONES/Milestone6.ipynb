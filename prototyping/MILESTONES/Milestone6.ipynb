{
 "metadata": {
  "language_info": {
   "codemirror_mode": {
    "name": "ipython",
    "version": 3
   },
   "file_extension": ".py",
   "mimetype": "text/x-python",
   "name": "python",
   "nbconvert_exporter": "python",
   "pygments_lexer": "ipython3",
   "version": 3
  },
  "orig_nbformat": 2
 },
 "nbformat": 4,
 "nbformat_minor": 2,
 "cells": [
  {
   "source": [
    "| *Deliverable* | | *Percent Complete* |  | *Estimated Completion Date* | | *Percent Complete by Next Milestone* |\n",
    "| :---------- | :--: | :---------- | :--: | :---------- | :-----------: | :------- | --------------------------: |\n",
    "| Code | | 100% | | May 3 | | 100% |\n",
    "| Paper | | 100% | | May 3 | | 100% |\n",
    "| Demo | | 0% | | May 1 | | 100% |\n",
    "| Presentation | | 0% | | May 3 | | 100% |\n"
   ],
   "cell_type": "markdown",
   "metadata": {}
  },
  {
   "source": [
    "# I.\n",
    "\n",
    "1. Jared Frazier: Managed to make a working model, and finsihed the paper  .\n",
    "2. Deven Kennedy: Help finsihing the paper and started the PDF file and the presentation. \n",
    "3. Romario Nan: Help finsihing the paper and started the PDF file and the presentation.\n",
    "4. Ethan Lawing: Help finsihing the paper and started the PDF file and the presentation. \n",
    "\n",   
    "# II.\n",
    "1. Jared Frazier: I trained the LSTM again w/ final fantasy, I didn't get much better results.\n",
    "\n",
    "# III.\n",
    "\n",
    "Main deliverables: <br/>\n",
    "1. Jared Frazier: Try to make the model more efficient using LSTM autoencoder . <br/>\n",
    "2. Deven Kennedy: Finsih the PDF and presentation.<br/>\n",
    "3. Romario Nan: Try to rebuild the model, and help finsihing the PDF and presentation.<br/>\n",
    "4. Ethan Lawing: Finsih the PDF and presentation.<br/>"
   ],
   "cell_type": "markdown",
   "metadata": {}
  },
  {
   "cell_type": "code",
   "execution_count": null,
   "metadata": {},
   "outputs": [],
   "source": []
  }
 ]
}
