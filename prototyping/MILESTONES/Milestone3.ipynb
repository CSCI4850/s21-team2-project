{
 "metadata": {
  "language_info": {
   "codemirror_mode": {
    "name": "ipython",
    "version": 3
   },
   "file_extension": ".py",
   "mimetype": "text/x-python",
   "name": "python",
   "nbconvert_exporter": "python",
   "pygments_lexer": "ipython3",
   "version": 3
  },
  "orig_nbformat": 2
 },
 "nbformat": 4,
 "nbformat_minor": 2,
 "cells": [
  {
   "source": [
    "| *Deliverable* | | *Percent Complete* |  | *Estimated Completion Date* | | *Percent Complete by Next Milestone* |\n",
    "| :---------- | :--: | :---------- | :--: | :---------- | :-----------: | :------- | --------------------------: |\n",
    "| Code | | 20% | | April 23 | | 30% |\n",
    "| Paper | | 20% | | April 29 | | 35% |\n",
    "| Demo | | 0% | | May 1 | | 0% |\n",
    "| Presentation | | 0% | | May 3 | | 0% |\n"
   ],
   "cell_type": "markdown",
   "metadata": {}
  },
  {
   "source": [
    "# I.\n",
    "\n",
    "1. Jared Frazier created a user interface using Tkinter for the webscraper and compressed existing data.\n",
    "2. Deven Kennedy: Got work done on the introduction section. \n",
    "3. Romario Nan: Still working on the code.\n",
    "4. Ethan Lawing: looking at the performance metrics section. \n",
    "\n",
    "# II.\n",
    " 1. Libraries may now be used to explore the data since data can be easily acquired.\n",
    " 3. Romario Nan: still having an issue with the code.\n",
    "\n",
    "# III.\n",
    "\n",
    "Main deliverables: <br/>\n",
    "1. Jared Frazier: Explore the data with libraries such as ```pretty_midi``` and ```Music21```.<br/>\n",
    "2. Deven Kennedy: Expand introduction section.<br/>\n",
    "3. Romario Nan: get the code to be 50% working. <br/>\n",
    "4. Ethan Lawing: Expand performance metrics section.<br/>"
   ],
   "cell_type": "markdown",
   "metadata": {}
  },
  {
   "cell_type": "code",
   "execution_count": null,
   "metadata": {},
   "outputs": [],
   "source": []
  }
 ]
}
