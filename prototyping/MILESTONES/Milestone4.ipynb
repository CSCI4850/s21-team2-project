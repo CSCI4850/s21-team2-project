{
 "metadata": {
  "language_info": {
   "codemirror_mode": {
    "name": "ipython",
    "version": 3
   },
   "file_extension": ".py",
   "mimetype": "text/x-python",
   "name": "python",
   "nbconvert_exporter": "python",
   "pygments_lexer": "ipython3",
   "version": 3
  },
  "orig_nbformat": 2
 },
 "nbformat": 4,
 "nbformat_minor": 2,
 "cells": [
  {
   "source": [
    "| *Deliverable* | | *Percent Complete* |  | *Estimated Completion Date* | | *Percent Complete by Next Milestone* |\n",
    "| :---------- | :--: | :---------- | :--: | :---------- | :-----------: | :------- | --------------------------: |\n",
    "| Code | | 40% | | April 21 | | 60% |\n",
    "| Paper | | 35% | | April 23 | | 50% |\n",
    "| Demo | | 0% | | May 1 | | 0% |\n",
    "| Presentation | | 0% | | May 3 | | 0% |\n"
   ],
   "cell_type": "markdown",
   "metadata": {}
  },
  {
   "source": [
    "# I.\n",
    "\n",
    "1. Jared Frazier: Updated user scraper GUI and investigated `music21` for the data processing.\n",
    "2. Deven Kennedy:  Look into GANs. \n",
    "3. Romario Nan: Still working on the code.\n",
    "4. Ethan Lawing: read and research performance metrics. \n",
    "\n",
    "# II.\n",
    "1. Jared Frazier: Unsure of how to encode data to numeric format for neural net.\n",
    "3. Romario Nan: The code I was working on didn't work, but I found other ways to do it.\n",
    "\n",
    "# III.\n",
    "\n",
    "Main deliverables: <br/>\n",
    "1. Jared Frazier: Encode data and prototype a network (LSTM and/or GRU based on other projects) <br/>\n",
    "2. Deven Kennedy: upload a report about GANs.<br/>\n",
    "3. Romario Nan: get the code to work with MIDI.<br/>\n",
    "4. Ethan Lawing: word document started with some notes on possible Performance Metrics.<br/>"
   ],
   "cell_type": "markdown",
   "metadata": {}
  },
  {
   "cell_type": "code",
   "execution_count": null,
   "metadata": {},
   "outputs": [],
   "source": []
  }
 ]
}