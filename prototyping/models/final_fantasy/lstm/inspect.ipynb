{
 "metadata": {
  "language_info": {
   "codemirror_mode": {
    "name": "ipython",
    "version": 3
   },
   "file_extension": ".py",
   "mimetype": "text/x-python",
   "name": "python",
   "nbconvert_exporter": "python",
   "pygments_lexer": "ipython3",
   "version": "3.6.13"
  },
  "orig_nbformat": 2,
  "kernelspec": {
   "name": "python3613jvsc74a57bd00decfbe5a70d8910007bbce8687584085ed75017321d767c169c5dae039dd627",
   "display_name": "Python 3.6.13 64-bit ('vgm-tf-keras-gpu': conda)"
  }
 },
 "nbformat": 4,
 "nbformat_minor": 2,
 "cells": [
  {
   "cell_type": "code",
   "execution_count": 3,
   "metadata": {},
   "outputs": [
    {
     "output_type": "stream",
     "name": "stderr",
     "text": [
      "Using TensorFlow backend.\n"
     ]
    }
   ],
   "source": [
    "# imports\n",
    "import tensorflow as tf\n",
    "import tensorflow.keras as keras\n",
    "from keras.backend.tensorflow_backend import set_session\n",
    "import numpy as np\n",
    "import datetime\n",
    "from contextlib import redirect_stdout\n",
    "import pickle"
   ]
  },
  {
   "cell_type": "code",
   "execution_count": 4,
   "metadata": {},
   "outputs": [],
   "source": [
    "# Try to load an untrained model\n",
    "loaded_model = keras.models.load_model('./untrained_models_h5/20210425_05-20-56_lstm.h5')"
   ]
  },
  {
   "cell_type": "code",
   "execution_count": 11,
   "metadata": {},
   "outputs": [
    {
     "output_type": "error",
     "ename": "AttributeError",
     "evalue": "module 'tensorflow' has no attribute 'ConfigProto'",
     "traceback": [
      "\u001b[1;31m---------------------------------------------------------------------------\u001b[0m",
      "\u001b[1;31mAttributeError\u001b[0m                            Traceback (most recent call last)",
      "\u001b[1;32m<ipython-input-11-6363c33698e9>\u001b[0m in \u001b[0;36m<module>\u001b[1;34m\u001b[0m\n\u001b[0;32m      1\u001b[0m \u001b[1;31m# Config growth --\u001b[0m\u001b[1;33m\u001b[0m\u001b[1;33m\u001b[0m\u001b[1;33m\u001b[0m\u001b[0m\n\u001b[0;32m      2\u001b[0m \u001b[1;31m# https://kobkrit.com/using-allow-growth-memory-option-in-tensorflow-and-keras-dc8c8081bc96\u001b[0m\u001b[1;33m\u001b[0m\u001b[1;33m\u001b[0m\u001b[1;33m\u001b[0m\u001b[0m\n\u001b[1;32m----> 3\u001b[1;33m \u001b[0mconfig\u001b[0m \u001b[1;33m=\u001b[0m \u001b[0mtf\u001b[0m\u001b[1;33m.\u001b[0m\u001b[0mConfigProto\u001b[0m\u001b[1;33m(\u001b[0m\u001b[1;33m)\u001b[0m\u001b[1;33m\u001b[0m\u001b[1;33m\u001b[0m\u001b[0m\n\u001b[0m\u001b[0;32m      4\u001b[0m \u001b[0mconfig\u001b[0m\u001b[1;33m.\u001b[0m\u001b[0mgpu_options\u001b[0m\u001b[1;33m.\u001b[0m\u001b[0mallow_growth\u001b[0m \u001b[1;33m=\u001b[0m \u001b[1;32mTrue\u001b[0m\u001b[1;33m\u001b[0m\u001b[1;33m\u001b[0m\u001b[0m\n\u001b[0;32m      5\u001b[0m \u001b[0mconfig\u001b[0m\u001b[1;33m.\u001b[0m\u001b[0mlog_device_placement\u001b[0m \u001b[1;33m=\u001b[0m \u001b[1;32mTrue\u001b[0m\u001b[1;33m\u001b[0m\u001b[1;33m\u001b[0m\u001b[0m\n",
      "\u001b[1;31mAttributeError\u001b[0m: module 'tensorflow' has no attribute 'ConfigProto'"
     ]
    }
   ],
   "source": [
    "# Config growth --\n",
    "# https://kobkrit.com/using-allow-growth-memory-option-in-tensorflow-and-keras-dc8c8081bc96\n",
    "config = tf.ConfigProto()\n",
    "config.gpu_options.allow_growth = True \n",
    "config.log_device_placement = True\n",
    "sess = tf.Session(config=config)"
   ]
  },
  {
   "cell_type": "code",
   "execution_count": 12,
   "metadata": {},
   "outputs": [],
   "source": [
    "# Log time for tracking\n",
    "now = datetime.datetime.now().strftime('%Y%m%d_%H-%M-%S')\n",
    "\n",
    "# Hyperparameters\n",
    "lstm_hidden_units = 256\n",
    "dense_hidden_units = 256\n",
    "batch_size = 128\n",
    "epochs = 256\n",
    "\n",
    "# The model\n",
    "model = keras.models.Sequential(name=f'{now}_lstm')\n",
    "\n",
    "# Input layer\n",
    "model.add(\n",
    "    keras.layers.LSTM(\n",
    "        lstm_hidden_units,\n",
    "        input_shape=(100, 98),\n",
    "        recurrent_dropout=0.3,\n",
    "        return_sequences=True,\n",
    "        name='input_lstm'\n",
    "    ))\n",
    "\n",
    "# LSTM hidden 0\n",
    "model.add(keras.layers.LSTM(lstm_hidden_units,\n",
    "            return_sequences=True, recurrent_dropout=0.3))\n",
    "\n",
    "# LSTM hidden 1\n",
    "model.add(keras.layers.LSTM(lstm_hidden_units))\n",
    "\n",
    "# Batch norm\n",
    "model.add(keras.layers.BatchNormalization())\n",
    "\n",
    "# Dropout\n",
    "model.add(keras.layers.Dropout(0.3))\n",
    "\n",
    "# Dense\n",
    "model.add(keras.layers.Dense(dense_hidden_units,))\n",
    "model.add(keras.layers.Activation('relu'))\n",
    "\n",
    "# Batch norm\n",
    "model.add(keras.layers.BatchNormalization())\n",
    "\n",
    "# Dropout\n",
    "model.add(keras.layers.Dropout(0.3,))\n",
    "\n",
    "# Output a single note represented by the vocab\n",
    "# of the multilabeled one hot vector\n",
    "model.add(keras.layers.Dense(\n",
    "    98, activation='sigmoid', name='dense_output'))\n",
    "\n",
    "model.add(keras.layers.Reshape(target_shape=(1, 98), name='reshaped_output'))\n",
    "\n",
    "# Compile it\n",
    "model.compile(loss='binary_crossentropy', optimizer='rmsprop')\n",
    "\n",
    "# Display it and write to file\n",
    "keras.utils.plot_model(\n",
    "    model, to_file=f'./inspect_figures/{now}_lstm.png', expand_nested=True, show_shapes=True)\n",
    "with open(f'./inspect_figures/{now}_lstm_modelsummary.txt', 'w') as f:\n",
    "    with redirect_stdout(f):\n",
    "        model.summary()"
   ]
  },
  {
   "cell_type": "code",
   "execution_count": 13,
   "metadata": {},
   "outputs": [],
   "source": [
    "# Make dummy input and output tensors\n",
    "dummy_input =  np.random.randint(0, high=1, size=(2000, 100, 98))\n",
    "dummy_output = np.random.randint(0, high=1, size=(2000, 1, 98))"
   ]
  },
  {
   "cell_type": "code",
   "execution_count": 14,
   "metadata": {},
   "outputs": [
    {
     "output_type": "stream",
     "name": "stdout",
     "text": [
      "Train on 1600 samples, validate on 400 samples\n",
      "Epoch 1/6\n",
      "1600/1600 [==============================] - 11s 7ms/sample - loss: 0.6782 - val_loss: 0.6442\n",
      "Epoch 2/6\n",
      "1600/1600 [==============================] - 3s 2ms/sample - loss: 0.6189 - val_loss: 0.5752\n",
      "Epoch 3/6\n",
      "1600/1600 [==============================] - 3s 2ms/sample - loss: 0.5480 - val_loss: 0.5022\n",
      "Epoch 4/6\n",
      "1600/1600 [==============================] - 3s 2ms/sample - loss: 0.4748 - val_loss: 0.4297\n",
      "Epoch 5/6\n",
      "1600/1600 [==============================] - 3s 2ms/sample - loss: 0.4031 - val_loss: 0.3608\n",
      "Epoch 6/6\n",
      "1600/1600 [==============================] - 3s 2ms/sample - loss: 0.3371 - val_loss: 0.2977\n"
     ]
    }
   ],
   "source": [
    "# Attempt to train\n",
    "history = model.fit(dummy_input, dummy_output, batch_size=256, epochs=6, verbose=1, validation_split=0.2)"
   ]
  },
  {
   "cell_type": "code",
   "execution_count": 18,
   "metadata": {},
   "outputs": [],
   "source": [
    "# Test pickling the history\n",
    "with open(f'./history/{now}_test_pickled_history', 'wb') as fobj:\n",
    "    pickle.dump(history.history, fobj)"
   ]
  },
  {
   "cell_type": "code",
   "execution_count": 19,
   "metadata": {},
   "outputs": [],
   "source": [
    "# Check loading \n",
    "with open(f'./history/{now}_test_pickled_history', 'rb') as fobj:\n",
    "    reloaded_history = pickle.load(fobj)"
   ]
  },
  {
   "cell_type": "code",
   "execution_count": 22,
   "metadata": {},
   "outputs": [
    {
     "output_type": "execute_result",
     "data": {
      "text/plain": [
       "dict_keys(['loss', 'val_loss'])"
      ]
     },
     "metadata": {},
     "execution_count": 22
    }
   ],
   "source": [
    "reloaded_history.keys()"
   ]
  },
  {
   "cell_type": "code",
   "execution_count": null,
   "metadata": {},
   "outputs": [],
   "source": []
  }
 ]
}