{
 "metadata": {
  "language_info": {
   "codemirror_mode": {
    "name": "ipython",
    "version": 3
   },
   "file_extension": ".py",
   "mimetype": "text/x-python",
   "name": "python",
   "nbconvert_exporter": "python",
   "pygments_lexer": "ipython3",
   "version": 3
  },
  "orig_nbformat": 2
 },
 "nbformat": 4,
 "nbformat_minor": 2,
 "cells": [
  {
   "cell_type": "code",
   "execution_count": null,
   "metadata": {},
   "outputs": [],
   "source": []
  },
  {
   "cell_type": "code",
   "execution_count": null,
   "metadata": {},
   "outputs": [],
   "source": [
    "# My Encoder\n",
    "encoder_model = keras.models.Sequential([\n",
    "    keras.layers.Input(shape=(t_timesteps, m_chords), name='encoder_input'),  # Might flatten this?\n",
    "    keras.layers.Dense(128, activation='tanh', name='encoder_hidden_layer1'),  # Densely connected to the previous layer\n",
    "    keras.layers.Dense(latent_dim, activation='tanh', name='encoder_hidden_layer2'),   # Outputs encoded input\n",
    "], name='encoder_model')\n",
    "\n",
    "# My Decoder\n",
    "decoder_model = keras.models.Sequential([\n",
    "    keras.layers.Input(shape=(t_timesteps, latent_dim), name='latent_input'), \n",
    "    keras.layers.Dense(128, activation='tanh', name='decoder_hidden_layer1'),  # Densely connected to previous layer\n",
    "    keras.layers.Dense(m_chords, activation='sigmoid', \n",
    "        name='decoder_output')\n",
    "], name='decoder_model')\n",
    "\n",
    "## My Stacked autoencoder\n",
    "# For this network, input is (n_samples, t_timesteps, m_one_hot_digits)\n",
    "# The length of the m_one_hot_digits dimension is determined by the number\n",
    "# of uniquely encoded chords/notes catgeories encoded during parsing.\n",
    "stacked_autoencoder = tf.keras.models.Sequential([\n",
    "    keras.layers.Input(shape=(t_timesteps, m_chords), name='input'),\n",
    "    encoder_model, \n",
    "    decoder_model\n",
    "])"
   ]
  },
  {
   "cell_type": "code",
   "execution_count": null,
   "metadata": {},
   "outputs": [],
   "source": [
    "# Compile the model\n",
    "stacked_autoencoder.compile(\n",
    "    loss='binary_crossentropy', \n",
    "    optimizer='rmsprop',  # Could use Adam instead?\n",
    "    metrics=[keras.metrics.BinaryCrossentropy()]\n",
    ")"
   ]
  },
  {
   "cell_type": "code",
   "execution_count": null,
   "metadata": {},
   "outputs": [],
   "source": [
    "# Encoder figure\n",
    "keras.utils.plot_model(encoder_model, to_file='./figures/enc.png', show_shapes=True, expand_nested=True)"
   ]
  },
  {
   "cell_type": "code",
   "execution_count": null,
   "metadata": {},
   "outputs": [],
   "source": [
    "# Decoder figure\n",
    "keras.utils.plot_model(decoder_model, to_file='./figures/dec.png', show_shapes=True, expand_nested=True)"
   ]
  },
  {
   "cell_type": "code",
   "execution_count": null,
   "metadata": {},
   "outputs": [],
   "source": [
    "# Stacked autoencoder figure\n",
    "keras.utils.plot_model(stacked_autoencoder, to_file='./figures/ae.png', show_shapes=True, expand_nested=True,)"
   ]
  },
  {
   "cell_type": "code",
   "execution_count": null,
   "metadata": {},
   "outputs": [],
   "source": [
    "# Summarize\n",
    "stacked_autoencoder.summary()"
   ]
  },
  {
   "cell_type": "code",
   "execution_count": null,
   "metadata": {},
   "outputs": [],
   "source": [
    "# Fit the separated autoencoder model\n",
    "fit_model_separated_autoencoder = False\n",
    "if (fit_model_separated_autoencoder):\n",
    "    history = stacked_autoencoder.fit(\n",
    "        one_hot_train_chords_array, \n",
    "        one_hot_train_chords_array, \n",
    "        epochs=128,\n",
    "        verbose=1,\n",
    "        validation_data=[one_hot_test_chords_array, one_hot_test_chords_array]\n",
    "        # callbacks=[\n",
    "        #     TensorBoard(\n",
    "        #         log_dir='logs\\\\model', \n",
    "        #         histogram_freq=1, \n",
    "        #         profile_batch=100000000\n",
    "        #     ), \n",
    "        # ]   \n",
    "    )"
   ]
  }
 ]
}