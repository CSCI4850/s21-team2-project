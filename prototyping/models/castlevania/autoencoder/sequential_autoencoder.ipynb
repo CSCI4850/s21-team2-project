{
 "metadata": {
  "language_info": {
   "codemirror_mode": {
    "name": "ipython",
    "version": 3
   },
   "file_extension": ".py",
   "mimetype": "text/x-python",
   "name": "python",
   "nbconvert_exporter": "python",
   "pygments_lexer": "ipython3",
   "version": "3.6.13"
  },
  "orig_nbformat": 2,
  "kernelspec": {
   "name": "python3613jvsc74a57bd00decfbe5a70d8910007bbce8687584085ed75017321d767c169c5dae039dd627",
   "display_name": "Python 3.6.13 64-bit ('vgm-tf-keras-gpu': conda)"
  }
 },
 "nbformat": 4,
 "nbformat_minor": 2,
 "cells": [
  {
   "source": [
    "# Key Consideration for Data:\n",
    "The input vector is currently 3D: (n_samples, t_timesteps, m_notes). n_samples represents the number of rows of in sequence chords/notes. t_timesteps is the number of notes ahead of the ith that note will be contained within a row vector. m_notes is the one hot vector of size representing the number 202 unique notes/chords that were found during parsing and encoding of data. So if sequence length is 16, then a row vector will be: <br/>\n",
    "[[[one_hot_encoded_chord_1]],[[one_hot_encoded_chord_2]],...[[one_hot_encoded_chord_i+t_timesteps]]]. <br/>\n",
    "# Important References and Notes:\n",
    "* Loss Functions\n",
    "    * https://gombru.github.io/2018/05/23/cross_entropy_loss/\n",
    "* Using TensorBoard\n",
    "    * https://github.com/tensorflow/tensorboard/issues/2819\n",
    "    * https://www.youtube.com/watch?v=YGQqh7mmWb4\n",
    "* ANN Visualizer Does Not Run\n",
    "* Keras Blog\n",
    "    * https://blog.keras.io/building-autoencoders-in-keras.html\n",
    "* LSTM Auto-Encoder\n",
    "    * https://machinelearningmastery.com/lstm-autoencoders/\n",
    "* TF tutorial\n",
    "    * https://www.datacamp.com/community/tutorials/using-tensorflow-to-compose-music\n",
    "* On Input Shape and Model Complexity\n",
    "    * https://towardsdatascience.com/ultimate-guide-to-input-shape-and-model-complexity-in-neural-networks-ae665c728f4b\n",
    "* Autoencoder Architecture\n",
    "    * A. Géron, “Chapter 17: Representation Learning and Generative Learning Using Autoencoders and GANs,” in Hands-on machine learning with Scikit-Learn, Keras, and TensorFlow: concepts, tools, and techniques to build intelligent systems, 2nd ed., Sebastopol, CA: O'Reilly Media, Inc., 2019, pp. 572–573. \n",
    "    * https://medium.com/@venkatakrishna.jonnalagadda/sparse-stacked-and-variational-autoencoder-efe5bfe73b64"
   ],
   "cell_type": "markdown",
   "metadata": {}
  },
  {
   "source": [
    "# Functions"
   ],
   "cell_type": "markdown",
   "metadata": {}
  },
  {
   "cell_type": "code",
   "execution_count": 16,
   "metadata": {},
   "outputs": [],
   "source": [
    "def get_chords_from_prediction(generated_chord_arr, mapping):\n",
    "    \"\"\"Gets predicted chords as string from generated chord probability array.\n",
    "    \n",
    "    :param generated_chord: <class 'numpy.ndarray'> of\n",
    "        probabilities indicating what the predicted chord\n",
    "        should be.\n",
    "    :param mapping: <class 'dict'> that maps <class 'int'>\n",
    "        chord to a <class 'str'> chord.\n",
    "    :return: <class 'list'> of the \n",
    "    \"\"\"\n",
    "    # Validate args\n",
    "    if (not isinstance(generated_chord_arr, np.ndarray)):\n",
    "        raise TypeError(\"'generated_chord_arr' must be of type <class 'numpy.ndarray'>\" )\n",
    "    if (len(generated_chord_arr.shape) < 3):\n",
    "        raise ValueError(\"'generated_chord_arr' must have at least 3 dimensions (one_sample, t_timesteps, m_chords).\")\n",
    "    if (generated_chord_arr.shape[0] > 1):\n",
    "        raise ValueError(\"'generated_chord_arr' should only have a single sample (one_sample, t_timesteps, m_chords).\")\n",
    "\n",
    "    ## Iterate through array and build chord outputs\n",
    "    output_list = []\n",
    "    for chord_probability_array in generated_chord_arr[0]:\n",
    "\n",
    "        # Append to list\n",
    "        output_list.append(mapping[chord_probability_array.argmax()])\n",
    "\n",
    "    # Return the converted chords list\n",
    "    return output_list\n",
    "\n",
    "\n",
    "def get_chords_from_one_hot_array(one_hot_chord_arr, mapping):\n",
    "    \"\"\"Converts one hot vectors to list of strings of chords.\n",
    "    \n",
    "    :param one_hot_chord_arr: <class 'numpy.ndarray'> of shape\n",
    "        (n_samples, t_timesteps, m_chords) where the mth m_chord is \n",
    "        a one-hot labeled vector representing a unique chord/note\n",
    "        combination. n_samples SHOULD BE 1 FOR NOW.\n",
    "    :param mapping: <class 'dict'> that maps an integer chord/note\n",
    "        to a corresponding string.\n",
    "    :return: <class 'list'> of <class 'str'> of converted \n",
    "        one-hot vectors to music21 syntax (but not type) chords.\n",
    "    \"\"\"\n",
    "\n",
    "    ## Validation\n",
    "    # Type checking\n",
    "    if (not isinstance(one_hot_chord_arr, np.ndarray)):\n",
    "        raise TypeError(\"'one_hot_chord_arr' must be of type <class 'numpy.ndarray'>\" )\n",
    "\n",
    "    # Check shape\n",
    "    if (len(one_hot_chord_arr.shape) != 3):\n",
    "        raise ValueError(\"'one_hot_chord_arr' must have a shape of 3: (n_samples, t_timesteps, m_chords)\")\n",
    "    \n",
    "\n",
    "    ## For each sample in the array\n",
    "    string_chord_list = []\n",
    "\n",
    "    ## For each sequence in the sample\n",
    "    for chord in one_hot_chord_arr[0]:\n",
    "\n",
    "            # Check the index of arg max\n",
    "            ix_arg_max = chord.argmax()\n",
    "\n",
    "            # map that index (int) to chord\n",
    "            ix_to_chord = mapping[ix_arg_max]\n",
    "\n",
    "            # Append to row\n",
    "            string_chord_list.append(ix_to_chord)\n",
    "\n",
    "    # Return the list in string-chord format\n",
    "    return string_chord_list\n",
    "\n",
    "\n",
    "def convert_string_to_chord(concatenated_chord):\n",
    "    \"\"\"Convert a concatenated chord to list of notes for music21 chord.\n",
    "    \n",
    "    :param concatenated_chord: <class 'str'>  A concatenated string\n",
    "        representing a string.\n",
    "    :return: <class 'list'> A list of strings representing a chord\n",
    "        for music21\n",
    "    \"\"\"\n",
    "    chord = []\n",
    "    slice_from = 0\n",
    "    for ix, char in enumerate(concatenated_chord):\n",
    "        if char.isdigit():\n",
    "            chord.append(concatenated_chord[slice_from:ix + 1])\n",
    "            slice_from = ix + 1\n",
    "\n",
    "    # Return list of notes (a chord)\n",
    "    return chord\n",
    "\n",
    "\n",
    "def generate_music21_stream_from_chords(chord_list, instrument_part=None):\n",
    "    \"\"\"Convert a list of chords to a music21 stream.\n",
    "    \n",
    "    :param chord_list: <class 'list'> of <class 'str'>\n",
    "        chords to be converted to music21 stream\n",
    "    :param path_to_write: <class 'str'>\n",
    "    :param instrument: <class 'music21.instrument.Instrument'> Defaults\n",
    "        to KeyboardInstrument()\n",
    "    :return: <class 'music21.stream.Part'>\n",
    "    \"\"\"\n",
    "\n",
    "    # Default instrument\n",
    "    if (not instrument_part):\n",
    "        instrument_part = instrument.KeyboardInstrument()\n",
    "\n",
    "    # Chord list\n",
    "    print('List of chords to be converted to music21 stream:', chord_list)\n",
    "\n",
    "    ## Make stream\n",
    "    # Generate stream with piano as instrument\n",
    "    generated_stream = stream.Part()\n",
    "    generated_stream.append(instrument_part)\n",
    "\n",
    "    # Append notes to stream\n",
    "    for single_chord in chord_list:\n",
    "        try:\n",
    "            generated_stream.append(note.Note(single_chord))\n",
    "            print('Note:', single_chord )\n",
    "        except:\n",
    "            extracted_chord = convert_string_to_chord(single_chord)\n",
    "            generated_stream.append(chord.Chord(extracted_chord))\n",
    "            print('String to chord:', single_chord, ' -> ' ,extracted_chord)\n",
    "\n",
    "\n",
    "    # Return the music21 stream\n",
    "    return generated_stream"
   ]
  },
  {
   "source": [
    "# Begin Code"
   ],
   "cell_type": "markdown",
   "metadata": {}
  },
  {
   "cell_type": "code",
   "execution_count": 17,
   "metadata": {},
   "outputs": [
    {
     "output_type": "display_data",
     "data": {
      "text/plain": "'TF Version:'"
     },
     "metadata": {}
    },
    {
     "output_type": "display_data",
     "data": {
      "text/plain": "'2.1.0'"
     },
     "metadata": {}
    },
    {
     "output_type": "display_data",
     "data": {
      "text/plain": "'Keras Version:'"
     },
     "metadata": {}
    },
    {
     "output_type": "display_data",
     "data": {
      "text/plain": "'2.2.4-tf'"
     },
     "metadata": {}
    },
    {
     "output_type": "stream",
     "name": "stdout",
     "text": [
      "[name: \"/device:CPU:0\"\ndevice_type: \"CPU\"\nmemory_limit: 268435456\nlocality {\n}\nincarnation: 15400644887028358348\n, name: \"/device:GPU:0\"\ndevice_type: \"GPU\"\nmemory_limit: 3057333044\nlocality {\n  bus_id: 1\n  links {\n  }\n}\nincarnation: 7510589318194633119\nphysical_device_desc: \"device: 0, name: GeForce GTX 1650 with Max-Q Design, pci bus id: 0000:57:00.0, compute capability: 7.5\"\n]\n"
     ]
    }
   ],
   "source": [
    "# TF and Keras\n",
    "import tensorflow.keras as keras\n",
    "from keras.callbacks import TensorBoard\n",
    "import tensorflow as tf\n",
    "from tensorflow.python.client import device_lib\n",
    "from keras import backend as K\n",
    "display('TF Version:', tf.__version__)\n",
    "display('Keras Version:', keras.__version__)\n",
    "print(device_lib.list_local_devices())"
   ]
  },
  {
   "cell_type": "code",
   "execution_count": 18,
   "metadata": {},
   "outputs": [],
   "source": [
    "# Other Imports\n",
    "import pickle\n",
    "import os\n",
    "import numpy as np\n",
    "import matplotlib.pyplot as plt\n",
    "# from ann_visualizer.visualize import ann_viz\n",
    "from statistics import mode\n",
    "from sklearn.model_selection import train_test_split\n",
    "from music21 import *\n",
    "from datetime import datetime"
   ]
  },
  {
   "source": [
    "# Data Loading"
   ],
   "cell_type": "markdown",
   "metadata": {}
  },
  {
   "cell_type": "code",
   "execution_count": 19,
   "metadata": {},
   "outputs": [
    {
     "output_type": "stream",
     "name": "stdout",
     "text": [
      "dict_keys(['reduced_chords_ds', 'reduced_durations_ds', 'chord_to_int', 'duration_to_int', 'int_to_chord', 'int_to_duration'])\n[68, 103, 40, 32, 92, 121, 93, 80, 123, 42, 93, 32, 74, 108, 50, 98]\n\nDecription of dimensions of one hot labeled training data:\nN samples: 695\nNumber of time steps: 16\nLength of one-hot array for encoded chord (number of chords): 202\n\n<class 'str'>\nData loaded at: 20210422_15-34-56\nWall time: 11 ms\n"
     ]
    }
   ],
   "source": [
    "%%time\n",
    "\n",
    "# Load feature and encoding data\n",
    "path_to_pickled_data = r'..\\..\\playing_with_data\\pickled_data'\n",
    "with open(os.path.join(path_to_pickled_data, 'pickled_feature_and_encoding_dict'),'rb') as fobj:\n",
    "    data_dict = pickle.load(fobj)\n",
    "\n",
    "# Get Data\n",
    "print(data_dict.keys())\n",
    "chords_ds = data_dict['reduced_chords_ds']\n",
    "durations_ds = data_dict['reduced_durations_ds']\n",
    "chord_to_int = data_dict['chord_to_int']\n",
    "duration_to_int = data_dict['duration_to_int']\n",
    "int_to_chord = data_dict['int_to_chord']\n",
    "int_to_duration = data_dict['int_to_duration']\n",
    "\n",
    "# Data preprocessing\n",
    "\n",
    "## Defining training data -- previous sequential data\n",
    "\n",
    "# The sequence length -- number of consecutive notes/chords along with corresponding duration\n",
    "sequence_length = 16\n",
    "\n",
    "# Empty lists for train data\n",
    "all_chords = []\n",
    "all_durations = []\n",
    "\n",
    "## Sequence construction\n",
    "# The chord_ds encapsulates the chords/notes associated with a particular score index\n",
    "for score_ix in range(len(chords_ds)):\n",
    "\n",
    "    # Convert the <class 'str'> chords/notes in the chords_ds for a particular score index\n",
    "    # to a list of integers. \n",
    "    int_chord_list = [chord_to_int[chord] for chord in chords_ds[score_ix]]\n",
    "\n",
    "    # Do the same for the durations\n",
    "    int_duration_list = [duration_to_int[duration] for duration in durations_ds[score_ix]]\n",
    "\n",
    "    ## Build the training sets\n",
    "    # Loop variable 'i' ranges the len of the integer chord list -- number of chords\n",
    "    # for a score -- MINUS the desired sequence length\n",
    "    # Essentially frames a temporally related problem in a supervised learning manner \n",
    "    # by making an input vector contain the i through i + sequence length notes.\n",
    "    # For example, if sequence length is 8... then if an input vector is composed of \n",
    "    # chords and subsequent chords N time steps (or sequence length) in the future, \n",
    "    # the chords/notes 0 through 8 will be acquired... then 1 through 9... etc.\n",
    "    # The range of a given list of chords is reduced by sequence length to avoid\n",
    "    # out of range indexing.\n",
    "    for i in range(len(int_chord_list) - sequence_length):\n",
    "        all_chords.append(int_chord_list[i: i + sequence_length])\n",
    "        all_durations.append(int_duration_list[i: i + sequence_length])\n",
    "\n",
    "# Train test split\n",
    "X_train, X_test, y_train, y_test = train_test_split(\n",
    "    all_chords,\n",
    "    all_chords, \n",
    "    random_state=42, \n",
    "    test_size=0.3,\n",
    "    shuffle=False\n",
    ")\n",
    "\n",
    "## One-hot encode data\n",
    "# ... I don't transpose here as it would make\n",
    "# all one hot vectors zeroes.\n",
    "# Refer to docs here, but the logic is that each column in a given row represents a single chord/note\n",
    "# There are only 202 unique chords/notes in this data set. This is from the parsing and encoding of the data.\n",
    "# The to_categorical function looks determines that there are only 202 unique column values (categories or chords).\n",
    "# Therefore, each chord/note can be represented by a one-hot array of length 202\n",
    "one_hot_train_chords_array = keras.utils.to_categorical(X_train, num_classes=202)\n",
    "one_hot_test_chords_array = keras.utils.to_categorical(X_test, num_classes=202)\n",
    "\n",
    "# (?, t_timesteps, m_chords) for \n",
    "n_samples = one_hot_train_chords_array.shape[0]\n",
    "m_chords = len(one_hot_train_chords_array[0][0])  # Number of one hot digits\n",
    "t_timesteps = sequence_length or one_hot_train_chords_array.shape[1]\n",
    "\n",
    "# Check number of chords/notes in each chord sublist\n",
    "print([len(sublist) for sublist in chords_ds])\n",
    "\n",
    "## Inspect data dimensions\n",
    "print()\n",
    "print('Decription of dimensions of one hot labeled training data:')\n",
    "print('N samples:', n_samples)\n",
    "print('Number of time steps:', t_timesteps)\n",
    "print('Length of one-hot array for encoded chord (number of chords):', m_chords)\n",
    "print() \n",
    "\n",
    "# Log the time\n",
    "log_now = datetime.now().strftime(\"%Y%m%d/%H:%M:%S\").replace(':', '-').replace('/', '_')\n",
    "print(type(log_now))\n",
    "print('Data loaded at:', log_now)"
   ]
  },
  {
   "source": [
    "# Training Data and Inspection of Encoded Data Set"
   ],
   "cell_type": "markdown",
   "metadata": {}
  },
  {
   "cell_type": "code",
   "execution_count": 20,
   "metadata": {},
   "outputs": [
    {
     "output_type": "stream",
     "name": "stdout",
     "text": [
      "The most commonly occurring chord/note is integer: 172  or  F#2\nThe max chord is: 201\nThe min chord is: 0\n"
     ]
    }
   ],
   "source": [
    "## Find most common occur chord in unlabeled array\n",
    "# Flatten it and find the most commonly occurring chord\n",
    "flattened_chord_list = [chord for sequence in X_train for chord in sequence]\n",
    "most_common_chord = mode(flattened_chord_list)\n",
    "max_chord = max(flattened_chord_list)\n",
    "min_chord = min(flattened_chord_list)\n",
    "print('The most commonly occurring chord/note is integer:', most_common_chord, ' or ', int_to_chord[most_common_chord])\n",
    "print('The max chord is:', max_chord)\n",
    "print('The min chord is:', min_chord)"
   ]
  },
  {
   "source": [
    "# Autoencoders"
   ],
   "cell_type": "markdown",
   "metadata": {}
  },
  {
   "cell_type": "code",
   "execution_count": 21,
   "metadata": {},
   "outputs": [],
   "source": [
    "# Relevant input dimensions for the encoder and decoder\n",
    "latent_dim = 2\n",
    "hidden_units_one = 64"
   ]
  },
  {
   "source": [
    "# Combined Sequential Autoencoder -- Encoder and Decoder Are Not Separate for Save/Load Purposes"
   ],
   "cell_type": "markdown",
   "metadata": {}
  },
  {
   "cell_type": "code",
   "execution_count": 22,
   "metadata": {},
   "outputs": [],
   "source": [
    "# Build the autoencoder as a sequential network only to see if saving/loading works then\n",
    "sequential_autoencoder = keras.models.Sequential([\n",
    "    \n",
    "    # Input \n",
    "    keras.layers.Input(shape=(t_timesteps, m_chords), name='encoder_input'),\n",
    "    \n",
    "    ## Begin encoder\n",
    "    # Encoder hidden\n",
    "    keras.layers.Dense(hidden_units_one, activation='tanh', name='encoder_hidden_layer1'),\n",
    "    \n",
    "    ## Latent layer\n",
    "    keras.layers.Dense(latent_dim, activation='tanh', name='latent'),\n",
    "\n",
    "    ## Decoder\n",
    "    # Decoder hidden\n",
    "    keras.layers.Dense(hidden_units_one, activation='tanh', name='decoder_hidden_layer1'),\n",
    "    \n",
    "    # Output layer\n",
    "    keras.layers.Dense(m_chords, activation='sigmoid', name='decoder_output')\n",
    "],\n",
    "name='autoencoder')"
   ]
  },
  {
   "cell_type": "code",
   "execution_count": 23,
   "metadata": {},
   "outputs": [],
   "source": [
    "# Compile the model\n",
    "sequential_autoencoder.compile(\n",
    "    loss='binary_crossentropy', \n",
    "    optimizer='rmsprop',  # Could use Adam instead?\n",
    "    metrics=[keras.metrics.BinaryCrossentropy()]\n",
    ")"
   ]
  },
  {
   "cell_type": "code",
   "execution_count": 24,
   "metadata": {},
   "outputs": [
    {
     "output_type": "execute_result",
     "data": {
      "image/png": "[encoded data removed]",
      "text/plain": [
       "<IPython.core.display.Image object>"
      ]
     },
     "metadata": {},
     "execution_count": 24
    }
   ],
   "source": [
    "# Plot the sequential autoencoder\n",
    "keras.utils.plot_model(\n",
    "    sequential_autoencoder, \n",
    "    to_file='./figures/sequential_autoencoder.png',\n",
    "    show_shapes=True,\n",
    "    expand_nested=True\n",
    ")"
   ]
  },
  {
   "cell_type": "code",
   "execution_count": 25,
   "metadata": {
    "tags": [
     "outputPrepend"
    ]
   },
   "outputs": [
    {
     "output_type": "stream",
     "name": "stdout",
     "text": [
      "binary_crossentropy: 0.0235 - val_loss: 0.0314 - val_binary_crossentropy: 0.0314\n",
      "Epoch 12/128\n",
      "695/695 [==============================] - 0s 201us/sample - loss: 0.0233 - binary_crossentropy: 0.0233 - val_loss: 0.0335 - val_binary_crossentropy: 0.0335\n",
      "Epoch 13/128\n",
      "695/695 [==============================] - 0s 191us/sample - loss: 0.0231 - binary_crossentropy: 0.0231 - val_loss: 0.0347 - val_binary_crossentropy: 0.0347\n",
      "Epoch 14/128\n",
      "695/695 [==============================] - 0s 190us/sample - loss: 0.0229 - binary_crossentropy: 0.0229 - val_loss: 0.0349 - val_binary_crossentropy: 0.0349\n",
      "Epoch 15/128\n",
      "695/695 [==============================] - 0s 201us/sample - loss: 0.0227 - binary_crossentropy: 0.0227 - val_loss: 0.0354 - val_binary_crossentropy: 0.0354\n",
      "Epoch 16/128\n",
      "695/695 [==============================] - 0s 190us/sample - loss: 0.0225 - binary_crossentropy: 0.0225 - val_loss: 0.0357 - val_binary_crossentropy: 0.0357\n",
      "Epoch 17/128\n",
      "695/695 [==============================] - 0s 191us/sample - loss: 0.0222 - binary_crossentropy: 0.0222 - val_loss: 0.0361 - val_binary_crossentropy: 0.0361\n",
      "Epoch 18/128\n",
      "695/695 [==============================] - 0s 193us/sample - loss: 0.0218 - binary_crossentropy: 0.0218 - val_loss: 0.0366 - val_binary_crossentropy: 0.0366\n",
      "Epoch 19/128\n",
      "695/695 [==============================] - 0s 196us/sample - loss: 0.0215 - binary_crossentropy: 0.0215 - val_loss: 0.0368 - val_binary_crossentropy: 0.0368\n",
      "Epoch 20/128\n",
      "695/695 [==============================] - 0s 191us/sample - loss: 0.0211 - binary_crossentropy: 0.0211 - val_loss: 0.0373 - val_binary_crossentropy: 0.0373\n",
      "Epoch 21/128\n",
      "695/695 [==============================] - 0s 194us/sample - loss: 0.0207 - binary_crossentropy: 0.0207 - val_loss: 0.0377 - val_binary_crossentropy: 0.0377\n",
      "Epoch 22/128\n",
      "695/695 [==============================] - 0s 194us/sample - loss: 0.0205 - binary_crossentropy: 0.0205 - val_loss: 0.0380 - val_binary_crossentropy: 0.0380\n",
      "Epoch 23/128\n",
      "695/695 [==============================] - 0s 212us/sample - loss: 0.0203 - binary_crossentropy: 0.0203 - val_loss: 0.0385 - val_binary_crossentropy: 0.0385\n",
      "Epoch 24/128\n",
      "695/695 [==============================] - 0s 190us/sample - loss: 0.0201 - binary_crossentropy: 0.0201 - val_loss: 0.0388 - val_binary_crossentropy: 0.0388\n",
      "Epoch 25/128\n",
      "695/695 [==============================] - 0s 184us/sample - loss: 0.0200 - binary_crossentropy: 0.0200 - val_loss: 0.0391 - val_binary_crossentropy: 0.0391\n",
      "Epoch 26/128\n",
      "695/695 [==============================] - 0s 193us/sample - loss: 0.0199 - binary_crossentropy: 0.0199 - val_loss: 0.0395 - val_binary_crossentropy: 0.0395\n",
      "Epoch 27/128\n",
      "695/695 [==============================] - 0s 190us/sample - loss: 0.0199 - binary_crossentropy: 0.0199 - val_loss: 0.0398 - val_binary_crossentropy: 0.0398\n",
      "Epoch 28/128\n",
      "695/695 [==============================] - 0s 184us/sample - loss: 0.0198 - binary_crossentropy: 0.0198 - val_loss: 0.0400 - val_binary_crossentropy: 0.0400\n",
      "Epoch 29/128\n",
      "695/695 [==============================] - 0s 200us/sample - loss: 0.0198 - binary_crossentropy: 0.0198 - val_loss: 0.0402 - val_binary_crossentropy: 0.0402\n",
      "Epoch 30/128\n",
      "695/695 [==============================] - 0s 203us/sample - loss: 0.0197 - binary_crossentropy: 0.0197 - val_loss: 0.0407 - val_binary_crossentropy: 0.0407\n",
      "Epoch 31/128\n",
      "695/695 [==============================] - 0s 191us/sample - loss: 0.0196 - binary_crossentropy: 0.0196 - val_loss: 0.0413 - val_binary_crossentropy: 0.0413\n",
      "Epoch 32/128\n",
      "695/695 [==============================] - 0s 183us/sample - loss: 0.0195 - binary_crossentropy: 0.0195 - val_loss: 0.0421 - val_binary_crossentropy: 0.0421\n",
      "Epoch 33/128\n",
      "695/695 [==============================] - 0s 181us/sample - loss: 0.0194 - binary_crossentropy: 0.0194 - val_loss: 0.0446 - val_binary_crossentropy: 0.0446\n",
      "Epoch 34/128\n",
      "695/695 [==============================] - 0s 187us/sample - loss: 0.0194 - binary_crossentropy: 0.0194 - val_loss: 0.0457 - val_binary_crossentropy: 0.0457\n",
      "Epoch 35/128\n",
      "695/695 [==============================] - 0s 187us/sample - loss: 0.0193 - binary_crossentropy: 0.0193 - val_loss: 0.0473 - val_binary_crossentropy: 0.0473\n",
      "Epoch 36/128\n",
      "695/695 [==============================] - 0s 183us/sample - loss: 0.0192 - binary_crossentropy: 0.0192 - val_loss: 0.0482 - val_binary_crossentropy: 0.0482\n",
      "Epoch 37/128\n",
      "695/695 [==============================] - 0s 196us/sample - loss: 0.0191 - binary_crossentropy: 0.0191 - val_loss: 0.0497 - val_binary_crossentropy: 0.0497\n",
      "Epoch 38/128\n",
      "695/695 [==============================] - 0s 197us/sample - loss: 0.0190 - binary_crossentropy: 0.0190 - val_loss: 0.0518 - val_binary_crossentropy: 0.0518\n",
      "Epoch 39/128\n",
      "695/695 [==============================] - 0s 203us/sample - loss: 0.0189 - binary_crossentropy: 0.0189 - val_loss: 0.0554 - val_binary_crossentropy: 0.0554\n",
      "Epoch 40/128\n",
      "695/695 [==============================] - 0s 197us/sample - loss: 0.0188 - binary_crossentropy: 0.0188 - val_loss: 0.0590 - val_binary_crossentropy: 0.0590\n",
      "Epoch 41/128\n",
      "695/695 [==============================] - 0s 187us/sample - loss: 0.0187 - binary_crossentropy: 0.0187 - val_loss: 0.0606 - val_binary_crossentropy: 0.0606\n",
      "Epoch 42/128\n",
      "695/695 [==============================] - 0s 185us/sample - loss: 0.0186 - binary_crossentropy: 0.0186 - val_loss: 0.0658 - val_binary_crossentropy: 0.0658\n",
      "Epoch 43/128\n",
      "695/695 [==============================] - 0s 186us/sample - loss: 0.0185 - binary_crossentropy: 0.0185 - val_loss: 0.0701 - val_binary_crossentropy: 0.0701\n",
      "Epoch 44/128\n",
      "695/695 [==============================] - 0s 186us/sample - loss: 0.0184 - binary_crossentropy: 0.0184 - val_loss: 0.0695 - val_binary_crossentropy: 0.0695\n",
      "Epoch 45/128\n",
      "695/695 [==============================] - 0s 185us/sample - loss: 0.0183 - binary_crossentropy: 0.0183 - val_loss: 0.0749 - val_binary_crossentropy: 0.0749\n",
      "Epoch 46/128\n",
      "695/695 [==============================] - 0s 185us/sample - loss: 0.0181 - binary_crossentropy: 0.0181 - val_loss: 0.0779 - val_binary_crossentropy: 0.0779\n",
      "Epoch 47/128\n",
      "695/695 [==============================] - 0s 184us/sample - loss: 0.0180 - binary_crossentropy: 0.0180 - val_loss: 0.0780 - val_binary_crossentropy: 0.0780\n",
      "Epoch 48/128\n",
      "695/695 [==============================] - 0s 184us/sample - loss: 0.0179 - binary_crossentropy: 0.0179 - val_loss: 0.0735 - val_binary_crossentropy: 0.0735\n",
      "Epoch 49/128\n",
      "695/695 [==============================] - 0s 185us/sample - loss: 0.0178 - binary_crossentropy: 0.0178 - val_loss: 0.0751 - val_binary_crossentropy: 0.0751\n",
      "Epoch 50/128\n",
      "695/695 [==============================] - 0s 185us/sample - loss: 0.0177 - binary_crossentropy: 0.0177 - val_loss: 0.0766 - val_binary_crossentropy: 0.0766\n",
      "Epoch 51/128\n",
      "695/695 [==============================] - 0s 202us/sample - loss: 0.0175 - binary_crossentropy: 0.0175 - val_loss: 0.0787 - val_binary_crossentropy: 0.0787\n",
      "Epoch 52/128\n",
      "695/695 [==============================] - 0s 190us/sample - loss: 0.0174 - binary_crossentropy: 0.0174 - val_loss: 0.0775 - val_binary_crossentropy: 0.0775\n",
      "Epoch 53/128\n",
      "695/695 [==============================] - 0s 189us/sample - loss: 0.0173 - binary_crossentropy: 0.0173 - val_loss: 0.0774 - val_binary_crossentropy: 0.0774\n",
      "Epoch 54/128\n",
      "695/695 [==============================] - 0s 192us/sample - loss: 0.0171 - binary_crossentropy: 0.0171 - val_loss: 0.0796 - val_binary_crossentropy: 0.0796\n",
      "Epoch 55/128\n",
      "695/695 [==============================] - 0s 193us/sample - loss: 0.0170 - binary_crossentropy: 0.0170 - val_loss: 0.0797 - val_binary_crossentropy: 0.0797\n",
      "Epoch 56/128\n",
      "695/695 [==============================] - 0s 191us/sample - loss: 0.0168 - binary_crossentropy: 0.0168 - val_loss: 0.0781 - val_binary_crossentropy: 0.0781\n",
      "Epoch 57/128\n",
      "695/695 [==============================] - 0s 194us/sample - loss: 0.0167 - binary_crossentropy: 0.0167 - val_loss: 0.0758 - val_binary_crossentropy: 0.0758\n",
      "Epoch 58/128\n",
      "695/695 [==============================] - 0s 193us/sample - loss: 0.0165 - binary_crossentropy: 0.0165 - val_loss: 0.0717 - val_binary_crossentropy: 0.0717\n",
      "Epoch 59/128\n",
      "695/695 [==============================] - 0s 187us/sample - loss: 0.0164 - binary_crossentropy: 0.0164 - val_loss: 0.0703 - val_binary_crossentropy: 0.0703\n",
      "Epoch 60/128\n",
      "695/695 [==============================] - 0s 204us/sample - loss: 0.0162 - binary_crossentropy: 0.0162 - val_loss: 0.0688 - val_binary_crossentropy: 0.0688\n",
      "Epoch 61/128\n",
      "695/695 [==============================] - 0s 187us/sample - loss: 0.0160 - binary_crossentropy: 0.0160 - val_loss: 0.0672 - val_binary_crossentropy: 0.0672\n",
      "Epoch 62/128\n",
      "695/695 [==============================] - 0s 216us/sample - loss: 0.0159 - binary_crossentropy: 0.0159 - val_loss: 0.0654 - val_binary_crossentropy: 0.0654\n",
      "Epoch 63/128\n",
      "695/695 [==============================] - 0s 184us/sample - loss: 0.0157 - binary_crossentropy: 0.0157 - val_loss: 0.0625 - val_binary_crossentropy: 0.0625\n",
      "Epoch 64/128\n",
      "695/695 [==============================] - 0s 190us/sample - loss: 0.0155 - binary_crossentropy: 0.0155 - val_loss: 0.0623 - val_binary_crossentropy: 0.0623\n",
      "Epoch 65/128\n",
      "695/695 [==============================] - 0s 189us/sample - loss: 0.0154 - binary_crossentropy: 0.0154 - val_loss: 0.0604 - val_binary_crossentropy: 0.0604\n",
      "Epoch 66/128\n",
      "695/695 [==============================] - 0s 187us/sample - loss: 0.0152 - binary_crossentropy: 0.0152 - val_loss: 0.0613 - val_binary_crossentropy: 0.0613\n",
      "Epoch 67/128\n",
      "695/695 [==============================] - 0s 189us/sample - loss: 0.0150 - binary_crossentropy: 0.0150 - val_loss: 0.0603 - val_binary_crossentropy: 0.0603\n",
      "Epoch 68/128\n",
      "695/695 [==============================] - 0s 188us/sample - loss: 0.0148 - binary_crossentropy: 0.0148 - val_loss: 0.0569 - val_binary_crossentropy: 0.0569\n",
      "Epoch 69/128\n",
      "695/695 [==============================] - 0s 192us/sample - loss: 0.0147 - binary_crossentropy: 0.0147 - val_loss: 0.0557 - val_binary_crossentropy: 0.0557\n",
      "Epoch 70/128\n",
      "695/695 [==============================] - 0s 188us/sample - loss: 0.0145 - binary_crossentropy: 0.0145 - val_loss: 0.0549 - val_binary_crossentropy: 0.0549\n",
      "Epoch 71/128\n",
      "695/695 [==============================] - 0s 198us/sample - loss: 0.0143 - binary_crossentropy: 0.0143 - val_loss: 0.0548 - val_binary_crossentropy: 0.0548\n",
      "Epoch 72/128\n",
      "695/695 [==============================] - 0s 220us/sample - loss: 0.0142 - binary_crossentropy: 0.0142 - val_loss: 0.0544 - val_binary_crossentropy: 0.0544\n",
      "Epoch 73/128\n",
      "695/695 [==============================] - 0s 191us/sample - loss: 0.0141 - binary_crossentropy: 0.0141 - val_loss: 0.0525 - val_binary_crossentropy: 0.0525\n",
      "Epoch 74/128\n",
      "695/695 [==============================] - 0s 187us/sample - loss: 0.0139 - binary_crossentropy: 0.0139 - val_loss: 0.0530 - val_binary_crossentropy: 0.0530\n",
      "Epoch 75/128\n",
      "695/695 [==============================] - 0s 187us/sample - loss: 0.0138 - binary_crossentropy: 0.0138 - val_loss: 0.0526 - val_binary_crossentropy: 0.0526\n",
      "Epoch 76/128\n",
      "695/695 [==============================] - 0s 185us/sample - loss: 0.0137 - binary_crossentropy: 0.0137 - val_loss: 0.0524 - val_binary_crossentropy: 0.0524\n",
      "Epoch 77/128\n",
      "695/695 [==============================] - 0s 186us/sample - loss: 0.0135 - binary_crossentropy: 0.0135 - val_loss: 0.0519 - val_binary_crossentropy: 0.0519\n",
      "Epoch 78/128\n",
      "695/695 [==============================] - 0s 187us/sample - loss: 0.0135 - binary_crossentropy: 0.0135 - val_loss: 0.0508 - val_binary_crossentropy: 0.0508\n",
      "Epoch 79/128\n",
      "695/695 [==============================] - 0s 196us/sample - loss: 0.0133 - binary_crossentropy: 0.0133 - val_loss: 0.0505 - val_binary_crossentropy: 0.0505\n",
      "Epoch 80/128\n",
      "695/695 [==============================] - 0s 184us/sample - loss: 0.0132 - binary_crossentropy: 0.0132 - val_loss: 0.0503 - val_binary_crossentropy: 0.0503\n",
      "Epoch 81/128\n",
      "695/695 [==============================] - 0s 191us/sample - loss: 0.0131 - binary_crossentropy: 0.0131 - val_loss: 0.0509 - val_binary_crossentropy: 0.0509\n",
      "Epoch 82/128\n",
      "695/695 [==============================] - 0s 186us/sample - loss: 0.0131 - binary_crossentropy: 0.0131 - val_loss: 0.0484 - val_binary_crossentropy: 0.0484\n",
      "Epoch 83/128\n",
      "695/695 [==============================] - 0s 184us/sample - loss: 0.0130 - binary_crossentropy: 0.0130 - val_loss: 0.0489 - val_binary_crossentropy: 0.0489\n",
      "Epoch 84/128\n",
      "695/695 [==============================] - 0s 186us/sample - loss: 0.0129 - binary_crossentropy: 0.0129 - val_loss: 0.0490 - val_binary_crossentropy: 0.0490\n",
      "Epoch 85/128\n",
      "695/695 [==============================] - 0s 184us/sample - loss: 0.0128 - binary_crossentropy: 0.0128 - val_loss: 0.0480 - val_binary_crossentropy: 0.0480\n",
      "Epoch 86/128\n",
      "695/695 [==============================] - 0s 192us/sample - loss: 0.0127 - binary_crossentropy: 0.0127 - val_loss: 0.0482 - val_binary_crossentropy: 0.0482\n",
      "Epoch 87/128\n",
      "695/695 [==============================] - 0s 189us/sample - loss: 0.0127 - binary_crossentropy: 0.0127 - val_loss: 0.0488 - val_binary_crossentropy: 0.0488\n",
      "Epoch 88/128\n",
      "695/695 [==============================] - 0s 190us/sample - loss: 0.0126 - binary_crossentropy: 0.0126 - val_loss: 0.0483 - val_binary_crossentropy: 0.0483\n",
      "Epoch 89/128\n",
      "695/695 [==============================] - 0s 203us/sample - loss: 0.0125 - binary_crossentropy: 0.0125 - val_loss: 0.0480 - val_binary_crossentropy: 0.0480\n",
      "Epoch 90/128\n",
      "695/695 [==============================] - 0s 190us/sample - loss: 0.0124 - binary_crossentropy: 0.0124 - val_loss: 0.0479 - val_binary_crossentropy: 0.0479\n",
      "Epoch 91/128\n",
      "695/695 [==============================] - 0s 188us/sample - loss: 0.0124 - binary_crossentropy: 0.0124 - val_loss: 0.0473 - val_binary_crossentropy: 0.0473\n",
      "Epoch 92/128\n",
      "695/695 [==============================] - 0s 186us/sample - loss: 0.0123 - binary_crossentropy: 0.0123 - val_loss: 0.0478 - val_binary_crossentropy: 0.0478\n",
      "Epoch 93/128\n",
      "695/695 [==============================] - 0s 195us/sample - loss: 0.0123 - binary_crossentropy: 0.0123 - val_loss: 0.0472 - val_binary_crossentropy: 0.0472\n",
      "Epoch 94/128\n",
      "695/695 [==============================] - 0s 189us/sample - loss: 0.0122 - binary_crossentropy: 0.0122 - val_loss: 0.0477 - val_binary_crossentropy: 0.0477\n",
      "Epoch 95/128\n",
      "695/695 [==============================] - 0s 190us/sample - loss: 0.0121 - binary_crossentropy: 0.0121 - val_loss: 0.0474 - val_binary_crossentropy: 0.0474\n",
      "Epoch 96/128\n",
      "695/695 [==============================] - 0s 189us/sample - loss: 0.0121 - binary_crossentropy: 0.0121 - val_loss: 0.0475 - val_binary_crossentropy: 0.0475\n",
      "Epoch 97/128\n",
      "695/695 [==============================] - 0s 194us/sample - loss: 0.0120 - binary_crossentropy: 0.0120 - val_loss: 0.0479 - val_binary_crossentropy: 0.0479\n",
      "Epoch 98/128\n",
      "695/695 [==============================] - 0s 184us/sample - loss: 0.0120 - binary_crossentropy: 0.0120 - val_loss: 0.0467 - val_binary_crossentropy: 0.0467\n",
      "Epoch 99/128\n",
      "695/695 [==============================] - 0s 184us/sample - loss: 0.0119 - binary_crossentropy: 0.0119 - val_loss: 0.0467 - val_binary_crossentropy: 0.0467\n",
      "Epoch 100/128\n",
      "695/695 [==============================] - 0s 191us/sample - loss: 0.0118 - binary_crossentropy: 0.0118 - val_loss: 0.0469 - val_binary_crossentropy: 0.0469\n",
      "Epoch 101/128\n",
      "695/695 [==============================] - 0s 190us/sample - loss: 0.0118 - binary_crossentropy: 0.0118 - val_loss: 0.0469 - val_binary_crossentropy: 0.0469\n",
      "Epoch 102/128\n",
      "695/695 [==============================] - 0s 190us/sample - loss: 0.0117 - binary_crossentropy: 0.0117 - val_loss: 0.0467 - val_binary_crossentropy: 0.0467\n",
      "Epoch 103/128\n",
      "695/695 [==============================] - 0s 190us/sample - loss: 0.0117 - binary_crossentropy: 0.0117 - val_loss: 0.0462 - val_binary_crossentropy: 0.0462\n",
      "Epoch 104/128\n",
      "695/695 [==============================] - 0s 188us/sample - loss: 0.0116 - binary_crossentropy: 0.0116 - val_loss: 0.0464 - val_binary_crossentropy: 0.0464\n",
      "Epoch 105/128\n",
      "695/695 [==============================] - 0s 232us/sample - loss: 0.0116 - binary_crossentropy: 0.0116 - val_loss: 0.0465 - val_binary_crossentropy: 0.0465\n",
      "Epoch 106/128\n",
      "695/695 [==============================] - 0s 184us/sample - loss: 0.0115 - binary_crossentropy: 0.0115 - val_loss: 0.0461 - val_binary_crossentropy: 0.0461\n",
      "Epoch 107/128\n",
      "695/695 [==============================] - 0s 185us/sample - loss: 0.0115 - binary_crossentropy: 0.0115 - val_loss: 0.0464 - val_binary_crossentropy: 0.0464\n",
      "Epoch 108/128\n",
      "695/695 [==============================] - 0s 193us/sample - loss: 0.0115 - binary_crossentropy: 0.0115 - val_loss: 0.0460 - val_binary_crossentropy: 0.0460\n",
      "Epoch 109/128\n",
      "695/695 [==============================] - 0s 196us/sample - loss: 0.0114 - binary_crossentropy: 0.0114 - val_loss: 0.0462 - val_binary_crossentropy: 0.0462\n",
      "Epoch 110/128\n",
      "695/695 [==============================] - 0s 204us/sample - loss: 0.0114 - binary_crossentropy: 0.0114 - val_loss: 0.0462 - val_binary_crossentropy: 0.0462\n",
      "Epoch 111/128\n",
      "695/695 [==============================] - 0s 209us/sample - loss: 0.0113 - binary_crossentropy: 0.0113 - val_loss: 0.0462 - val_binary_crossentropy: 0.0462\n",
      "Epoch 112/128\n",
      "695/695 [==============================] - 0s 213us/sample - loss: 0.0113 - binary_crossentropy: 0.0113 - val_loss: 0.0458 - val_binary_crossentropy: 0.0458\n",
      "Epoch 113/128\n",
      "695/695 [==============================] - 0s 218us/sample - loss: 0.0112 - binary_crossentropy: 0.0112 - val_loss: 0.0460 - val_binary_crossentropy: 0.0460\n",
      "Epoch 114/128\n",
      "695/695 [==============================] - 0s 226us/sample - loss: 0.0112 - binary_crossentropy: 0.0112 - val_loss: 0.0459 - val_binary_crossentropy: 0.0459\n",
      "Epoch 115/128\n",
      "695/695 [==============================] - 0s 296us/sample - loss: 0.0111 - binary_crossentropy: 0.0111 - val_loss: 0.0459 - val_binary_crossentropy: 0.0459\n",
      "Epoch 116/128\n",
      "695/695 [==============================] - 0s 243us/sample - loss: 0.0111 - binary_crossentropy: 0.0111 - val_loss: 0.0460 - val_binary_crossentropy: 0.0460\n",
      "Epoch 117/128\n",
      "695/695 [==============================] - 0s 249us/sample - loss: 0.0111 - binary_crossentropy: 0.0111 - val_loss: 0.0458 - val_binary_crossentropy: 0.0458\n",
      "Epoch 118/128\n",
      "695/695 [==============================] - 0s 257us/sample - loss: 0.0110 - binary_crossentropy: 0.0110 - val_loss: 0.0456 - val_binary_crossentropy: 0.0456\n",
      "Epoch 119/128\n",
      "695/695 [==============================] - 0s 236us/sample - loss: 0.0110 - binary_crossentropy: 0.0110 - val_loss: 0.0456 - val_binary_crossentropy: 0.0456\n",
      "Epoch 120/128\n",
      "695/695 [==============================] - 0s 245us/sample - loss: 0.0109 - binary_crossentropy: 0.0109 - val_loss: 0.0456 - val_binary_crossentropy: 0.0456\n",
      "Epoch 121/128\n",
      "695/695 [==============================] - 0s 255us/sample - loss: 0.0109 - binary_crossentropy: 0.0109 - val_loss: 0.0456 - val_binary_crossentropy: 0.0456\n",
      "Epoch 122/128\n",
      "695/695 [==============================] - 0s 253us/sample - loss: 0.0109 - binary_crossentropy: 0.0109 - val_loss: 0.0455 - val_binary_crossentropy: 0.0455\n",
      "Epoch 123/128\n",
      "695/695 [==============================] - 0s 256us/sample - loss: 0.0108 - binary_crossentropy: 0.0108 - val_loss: 0.0454 - val_binary_crossentropy: 0.0454\n",
      "Epoch 124/128\n",
      "695/695 [==============================] - 0s 260us/sample - loss: 0.0108 - binary_crossentropy: 0.0108 - val_loss: 0.0454 - val_binary_crossentropy: 0.0454\n",
      "Epoch 125/128\n",
      "695/695 [==============================] - 0s 242us/sample - loss: 0.0107 - binary_crossentropy: 0.0107 - val_loss: 0.0452 - val_binary_crossentropy: 0.0452\n",
      "Epoch 126/128\n",
      "695/695 [==============================] - 0s 249us/sample - loss: 0.0107 - binary_crossentropy: 0.0107 - val_loss: 0.0453 - val_binary_crossentropy: 0.0453\n",
      "Epoch 127/128\n",
      "695/695 [==============================] - 0s 241us/sample - loss: 0.0106 - binary_crossentropy: 0.0106 - val_loss: 0.0453 - val_binary_crossentropy: 0.0453\n",
      "Epoch 128/128\n",
      "695/695 [==============================] - 0s 238us/sample - loss: 0.0106 - binary_crossentropy: 0.0106 - val_loss: 0.0452 - val_binary_crossentropy: 0.0452\n"
     ]
    }
   ],
   "source": [
    "# Fit the sequential autoencoder model\n",
    "fit_model_sequential_autoencoder = True\n",
    "if (fit_model_sequential_autoencoder):\n",
    "    history = sequential_autoencoder.fit(\n",
    "        one_hot_train_chords_array, \n",
    "        one_hot_train_chords_array, \n",
    "        epochs=128,\n",
    "        verbose=1,\n",
    "        validation_data=[one_hot_test_chords_array, one_hot_test_chords_array]\n",
    "        # callbacks=[\n",
    "        #     TensorBoard(\n",
    "        #         log_dir='logs\\\\model', \n",
    "        #         histogram_freq=1, \n",
    "        #         profile_batch=100000000\n",
    "        #     ), \n",
    "        # ]   \n",
    "    )"
   ]
  },
  {
   "source": [
    "# Save the Model"
   ],
   "cell_type": "markdown",
   "metadata": {}
  },
  {
   "cell_type": "code",
   "execution_count": 74,
   "metadata": {},
   "outputs": [
    {
     "output_type": "stream",
     "name": "stdout",
     "text": [
      "INFO:tensorflow:Assets written to: ./20210422_12-03-55_sequential_autoencoder\\assets\n"
     ]
    }
   ],
   "source": [
    "# Save the sequential model\n",
    "sequential_model_path = f'./{log_now}_sequential_autoencoder'\n",
    "save_sequential_model = True\n",
    "if (save_sequential_model):\n",
    "    os.mkdir(sequential_model_path)\n",
    "    sequential_autoencoder.save(sequential_model_path)"
   ]
  },
  {
   "source": [
    "# History and Learning Curves"
   ],
   "cell_type": "markdown",
   "metadata": {}
  },
  {
   "cell_type": "code",
   "execution_count": 75,
   "metadata": {},
   "outputs": [
    {
     "output_type": "stream",
     "name": "stdout",
     "text": [
      "dict_keys(['loss', 'binary_crossentropy', 'val_loss', 'val_binary_crossentropy'])\n",
      "ipykernel_launcher:27: UserWarning: Matplotlib is currently using module://ipykernel.pylab.backend_inline, which is a non-GUI backend, so cannot show the figure.\n"
     ]
    },
    {
     "output_type": "display_data",
     "data": {
      "text/plain": "<Figure size 1080x576 with 2 Axes>",
      "image/png": "[encoded data removed]"
     },
     "metadata": {
      "image/png": {
       "width": 874,
       "height": 494
      },
      "needs_background": "light"
     }
    }
   ],
   "source": [
    "# Plot learning curve\n",
    "fit_model = True\n",
    "if (fit_model):\n",
    "\n",
    "    # Inspect history keys\n",
    "    print(history.history.keys())\n",
    "\n",
    "    # Plot the figure\n",
    "    fig, axs = plt.subplots(nrows=1, ncols=2, figsize=(15, 8))\n",
    "    axs[0].plot(history.history['loss'], label='training')\n",
    "    axs[0].plot(history.history['val_loss'], label='validation')\n",
    "    axs[1].plot(history.history['binary_crossentropy'], label='training')\n",
    "    axs[1].plot(history.history['val_binary_crossentropy'], label='validation')\n",
    "\n",
    "\n",
    "    # Label it\n",
    "    axs[0].set_title('loss')\n",
    "    axs[0].set_xlabel('epochs')\n",
    "    axs[1].set_title('Categorical Cross Entropy')\n",
    "    axs[1].set_xlabel('epochs') \n",
    "\n",
    "    # Legend\n",
    "    axs[0].legend()\n",
    "    axs[1].legend()\n",
    "\n",
    "    # Show\n",
    "    fig.show()"
   ]
  },
  {
   "cell_type": "code",
   "execution_count": 76,
   "metadata": {},
   "outputs": [],
   "source": [
    "# # What is the expected input of the decoder?\n",
    "# # (?, t_time_steps, latent_dim)\n",
    "# # Clearly this output is not ideal as it is generating notes in a very odd range\n",
    "# decoder_generated_chords = decoder_model(np.random.normal(size=(1, t_timesteps, latent_dim))).numpy()\n",
    "\n",
    "# print(max(decoder_generated_chords[0][0]))\n",
    "\n",
    "# # Check maxes of each\n",
    "# # [arr for arr in decoder_generated_chords if max(arr) != 0]"
   ]
  },
  {
   "cell_type": "code",
   "execution_count": 77,
   "metadata": {},
   "outputs": [],
   "source": [
    "## Random input for model prediction\n",
    "\n",
    "# # Random integer array\n",
    "# random_input = np.random.randint(m_chords, size=t_timesteps)\n",
    "# print('Random integer array input:', random_input)\n",
    "\n",
    "# # One-hot label that array\n",
    "# random_input_one_hot = tf.keras.utils.to_categorical(random_input, num_classes=m_chords)\n",
    "# random_input_one_hot = random_input_one_hot.reshape(1, t_timesteps, m_chords)\n",
    "# print('One-hot labeled random array dims:', random_input_one_hot.shape)"
   ]
  },
  {
   "source": [
    "# Predicting Chords"
   ],
   "cell_type": "markdown",
   "metadata": {}
  },
  {
   "cell_type": "code",
   "execution_count": 78,
   "metadata": {},
   "outputs": [],
   "source": [
    "# Load most recent model\n",
    "load_recent_stacked_autoencoder = True\n",
    "load_recent_stacked_autoencoder_path = f'./{log_now}_sequential_autoencoder'\n",
    "if (load_recent_stacked_autoencoder):\n",
    "    stacked_autoencoder = keras.models.load_model(load_recent_stacked_autoencoder_path)\n",
    "\n",
    "# Load a model manually\n",
    "load_manual = False\n",
    "manual_model_path = '20210422_11-14-01_sequential_autoencoder'\n",
    "if (load_manual):\n",
    "\n",
    "    # Specifiy model path here\n",
    "    stacked_autoencoder = keras.models.load_model(manual_model_path)\n"
   ]
  },
  {
   "cell_type": "code",
   "execution_count": 79,
   "metadata": {},
   "outputs": [
    {
     "output_type": "display_data",
     "data": {
      "text/plain": "['G3G4',\n 'G3C4',\n 'G3D4',\n 'G3E4',\n 'A3E4',\n 'A3F4',\n 'B-3G4',\n 'B-3E-4',\n 'A3F4',\n 'G3G4',\n 'F3F4',\n 'F3B-3',\n 'D3B-3',\n 'C#3B-3',\n 'E3C#4',\n 'G3E4']"
     },
     "metadata": {}
    },
    {
     "output_type": "display_data",
     "data": {
      "text/plain": "['G3G4',\n 'G3D4',\n 'G3D4',\n 'B-3',\n 'D2E-3',\n 'G3G4',\n 'G3D4',\n 'D2G5',\n 'G3G4',\n 'G3G4',\n 'G3G4',\n 'D2G5',\n 'B-3',\n 'D2G5',\n 'G3D4',\n 'B-3']"
     },
     "metadata": {}
    }
   ],
   "source": [
    "# Take an arbitary sequence of notes from the the Nth sequence of 16 notes in the test array\n",
    "test_input = one_hot_test_chords_array[150, :].reshape(1, t_timesteps, m_chords)\n",
    "test_song = get_chords_from_one_hot_array(test_input, mapping=int_to_chord)\n",
    "display(test_song)\n",
    "\n",
    "# Use the model to predict chords\n",
    "generated_chords = stacked_autoencoder.predict(\n",
    "    test_input\n",
    ")\n",
    "\n",
    "# Get the chord integers from the prediction\n",
    "generated_song = get_chords_from_prediction(generated_chords, mapping=int_to_chord)\n",
    "display(generated_song)"
   ]
  },
  {
   "source": [
    "# Create MIDI file for the generated song as well as the song that it was derived from -- this way they can be compared..."
   ],
   "cell_type": "markdown",
   "metadata": {}
  },
  {
   "cell_type": "code",
   "execution_count": 80,
   "metadata": {},
   "outputs": [
    {
     "output_type": "stream",
     "name": "stdout",
     "text": [
      "List of chords to be converted to music21 stream: ['G3G4', 'G3D4', 'G3D4', 'B-3', 'D2E-3', 'G3G4', 'G3D4', 'D2G5', 'G3G4', 'G3G4', 'G3G4', 'D2G5', 'B-3', 'D2G5', 'G3D4', 'B-3']\nString to chord: G3G4  ->  ['G3', 'G4']\nString to chord: G3D4  ->  ['G3', 'D4']\nString to chord: G3D4  ->  ['G3', 'D4']\nNote: B-3\nString to chord: D2E-3  ->  ['D2', 'E-3']\nString to chord: G3G4  ->  ['G3', 'G4']\nString to chord: G3D4  ->  ['G3', 'D4']\nString to chord: D2G5  ->  ['D2', 'G5']\nString to chord: G3G4  ->  ['G3', 'G4']\nString to chord: G3G4  ->  ['G3', 'G4']\nString to chord: G3G4  ->  ['G3', 'G4']\nString to chord: D2G5  ->  ['D2', 'G5']\nNote: B-3\nString to chord: D2G5  ->  ['D2', 'G5']\nString to chord: G3D4  ->  ['G3', 'D4']\nNote: B-3\n\nList of chords to be converted to music21 stream: ['G3G4', 'G3C4', 'G3D4', 'G3E4', 'A3E4', 'A3F4', 'B-3G4', 'B-3E-4', 'A3F4', 'G3G4', 'F3F4', 'F3B-3', 'D3B-3', 'C#3B-3', 'E3C#4', 'G3E4']\nString to chord: G3G4  ->  ['G3', 'G4']\nString to chord: G3C4  ->  ['G3', 'C4']\nString to chord: G3D4  ->  ['G3', 'D4']\nString to chord: G3E4  ->  ['G3', 'E4']\nString to chord: A3E4  ->  ['A3', 'E4']\nString to chord: A3F4  ->  ['A3', 'F4']\nString to chord: B-3G4  ->  ['B-3', 'G4']\nString to chord: B-3E-4  ->  ['B-3', 'E-4']\nString to chord: A3F4  ->  ['A3', 'F4']\nString to chord: G3G4  ->  ['G3', 'G4']\nString to chord: F3F4  ->  ['F3', 'F4']\nString to chord: F3B-3  ->  ['F3', 'B-3']\nString to chord: D3B-3  ->  ['D3', 'B-3']\nString to chord: C#3B-3  ->  ['C#3', 'B-3']\nString to chord: E3C#4  ->  ['E3', 'C#4']\nString to chord: G3E4  ->  ['G3', 'E4']\n"
     ]
    }
   ],
   "source": [
    "# Generate stream with piano as instrument\n",
    "generated_stream = generate_music21_stream_from_chords(generated_song)\n",
    "\n",
    "# Test stream with piano as instrument\n",
    "print()\n",
    "test_stream = generate_music21_stream_from_chords(test_song)"
   ]
  },
  {
   "cell_type": "code",
   "execution_count": 81,
   "metadata": {},
   "outputs": [
    {
     "output_type": "execute_result",
     "data": {
      "text/plain": [
       "'./generated_songs/20210422_12-03-55_test_song.mid'"
      ]
     },
     "metadata": {},
     "execution_count": 81
    }
   ],
   "source": [
    "# Write the generated stream\n",
    "generated_stream.write('midi', f'./generated_songs/{log_now}_generated_song.mid')\n",
    "\n",
    "# Write test stream\n",
    "test_stream.write('midi', f'./generated_songs/{log_now}_test_song.mid') "
   ]
  },
  {
   "cell_type": "code",
   "execution_count": 62,
   "metadata": {},
   "outputs": [
    {
     "output_type": "stream",
     "name": "stdout",
     "text": [
      "<class 'music21.stream.Part'>\n"
     ]
    }
   ],
   "source": [
    "# Write the "
   ]
  },
  {
   "source": [
    "# Conclusions\n",
    "Generation is fine for now. Try feeding it other songs in the key of bminor outside of this data set to see what it produces. Often single note melodies will be produced only. Autoencoder could be memorizing and not learning latent representations which may lead to overfitting and perform generalization on other songs."
   ],
   "cell_type": "markdown",
   "metadata": {}
  },
  {
   "cell_type": "code",
   "execution_count": null,
   "metadata": {},
   "outputs": [],
   "source": []
  }
 ]
}