{
 "metadata": {
  "language_info": {
   "codemirror_mode": {
    "name": "ipython",
    "version": 3
   },
   "file_extension": ".py",
   "mimetype": "text/x-python",
   "name": "python",
   "nbconvert_exporter": "python",
   "pygments_lexer": "ipython3",
   "version": 3
  },
  "orig_nbformat": 2
 },
 "nbformat": 4,
 "nbformat_minor": 2,
 "cells": [
  {
   "cell_type": "code",
   "execution_count": null,
   "metadata": {},
   "outputs": [],
   "source": []
  },
  {
   "cell_type": "code",
   "execution_count": null,
   "metadata": {},
   "outputs": [],
   "source": [
    "# Build like tutorial then visualize\n",
    "# Define encoder input shape\n",
    "encoder_input = tf.keras.layers.Input(shape=[input_dim])\n",
    "\n",
    "# Define decoder input shape\n",
    "latent = tf.keras.layers.Input(shape=[latent_dim])\n",
    "\n",
    "# Define dense encoding layer connecting input to latent vector\n",
    "encoded = tf.keras.layers.Dense(latent_dim, activation = 'tanh')(encoder_input)\n",
    "\n",
    "# Define dense decoding layer connecting latent vector to output\n",
    "decoded = tf.keras.layers.Dense(input_dim, activation = 'sigmoid')(latent)\n",
    "\n",
    "# Define the encoder and decoder models\n",
    "encoder = tf.keras.Model(encoder_input, encoded)\n",
    "decoder = tf.keras.Model(latent, decoded)\n",
    "\n",
    "# Define autoencoder model\n",
    "autoencoder = tf.keras.Model(encoder_input, decoder(encoded))"
   ]
  },
  {
   "cell_type": "code",
   "execution_count": null,
   "metadata": {},
   "outputs": [],
   "source": [
    "# Plot tutorial encoder\n",
    "keras.utils.plot_model(\n",
    "    encoder,\n",
    "    to_file='./figures/enc_tutorial.png',\n",
    "    show_shapes=True,\n",
    "    expand_nested=True,\n",
    ")"
   ]
  },
  {
   "cell_type": "code",
   "execution_count": null,
   "metadata": {},
   "outputs": [],
   "source": [
    "# Plot tutorial decoder\n",
    "keras.utils.plot_model(\n",
    "    decoder,\n",
    "    to_file='./figures/dec_tutorial.png',\n",
    "    show_shapes=True,\n",
    "    expand_nested=True,\n",
    ")"
   ]
  },
  {
   "cell_type": "code",
   "execution_count": null,
   "metadata": {},
   "outputs": [],
   "source": [
    "# Plot the tutorial autoencoder\n",
    "keras.utils.plot_model(\n",
    "    autoencoder,\n",
    "    to_file='./figures/ae_tutorial.png',\n",
    "    show_shapes=True,\n",
    "    expand_nested=True,\n",
    ")"
   ]
  },
  {
   "cell_type": "code",
   "execution_count": null,
   "metadata": {},
   "outputs": [],
   "source": [
    "# Tutorial autoencoder summary\n",
    "autoencoder.summary()"
   ]
  }
 ]
}