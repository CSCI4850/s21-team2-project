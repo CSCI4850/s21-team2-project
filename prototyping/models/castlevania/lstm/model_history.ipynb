{
 "metadata": {
  "language_info": {
   "codemirror_mode": {
    "name": "ipython",
    "version": 3
   },
   "file_extension": ".py",
   "mimetype": "text/x-python",
   "name": "python",
   "nbconvert_exporter": "python",
   "pygments_lexer": "ipython3",
   "version": 3
  },
  "orig_nbformat": 2
 },
 "nbformat": 4,
 "nbformat_minor": 2,
 "cells": [
  {
   "cell_type": "code",
   "execution_count": null,
   "metadata": {},
   "outputs": [],
   "source": [
    "# Imports\n",
    "## Imports\n",
    "\n",
    "# MIDI processing\n",
    "from music21 import *\n",
    "\n",
    "# Tensorflow and Keras\n",
    "import tensorflow.keras as keras\n",
    "from keras.callbacks import TensorBoard, ModelCheckpoint, EarlyStopping\n",
    "%load_ext tensorboard\n",
    "import tensorflow as tf\n",
    "\n",
    "# Sklearn\n",
    "from sklearn.model_selection import train_test_split\n",
    "\n",
    "# Wrangling\n",
    "import numpy as np\n",
    "\n",
    "# Visual\n",
    "import matplotlib.pyplot as plt\n",
    "\n",
    "# Misc\n",
    "import pickle\n",
    "import os\n",
    "from datetime import datetime"
   ]
  },
  {
   "cell_type": "code",
   "execution_count": null,
   "metadata": {},
   "outputs": [],
   "source": [
    "path = r'C:\\Dev\\python\\CS4850\\TEAM2_ORGANIZATION_REPO\\models\\lstm\\saved_models_h5\\20210423_11-08-36_best_model.h5'\n",
    "model = keras.models.load_model(path)"
   ]
  }
 ]
}