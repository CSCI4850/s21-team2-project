{
 "metadata": {
  "language_info": {
   "codemirror_mode": {
    "name": "ipython",
    "version": 3
   },
   "file_extension": ".py",
   "mimetype": "text/x-python",
   "name": "python",
   "nbconvert_exporter": "python",
   "pygments_lexer": "ipython3",
   "version": "3.8.2-final"
  },
  "orig_nbformat": 2,
  "kernelspec": {
   "name": "python3",
   "display_name": "Python 3",
   "language": "python"
  }
 },
 "nbformat": 4,
 "nbformat_minor": 2,
 "cells": [
  {
   "cell_type": "code",
   "execution_count": 6,
   "metadata": {},
   "outputs": [],
   "source": [
    "\"\"\"Simple scraper that goes to VGMusic URL\n",
    "and downloads all songs of the requested category.\n",
    "\n",
    "This should be converted to a class for reusability and integration\n",
    "with tkinter later.\n",
    "\n",
    "Author: Jared Frazier\n",
    "\"\"\"\n",
    "\n",
    "import bs4\n",
    "import requests\n",
    "import time\n",
    "import random\n",
    "import os"
   ]
  },
  {
   "cell_type": "code",
   "execution_count": 7,
   "metadata": {},
   "outputs": [],
   "source": [
    "# Scrape list of midis from website\n",
    "def list_of_vg_midis(name_of_vg):\n",
    "    \"\"\"Requests site and gets list of midi files for a videogame.\n",
    "    \n",
    "    :param name_of_vg: <class 'str'> The name of a videogame\n",
    "        from which the list of midis will be created.\n",
    "    :return: <class 'list'> of all .mid files for a particular \n",
    "        videogame.\n",
    "    \"\"\"\n",
    "    # URL to scrape\n",
    "    URL = \"https://www.vgmusic.com/music/console/nintendo/nes/\"\n",
    "\n",
    "    # Get the HTTP response content for this URL\n",
    "    time.sleep(random.uniform(1, 5))\n",
    "    res = requests.get(URL).content\n",
    "\n",
    "    # Get the soup obj\n",
    "    soup = bs4.BeautifulSoup(res, \"html.parser\")\n",
    "\n",
    "    # Find where the name of the videogame is in the bs4 tree \n",
    "    # ERROR CHECK HERE?\n",
    "    vg_str = soup.find(string=name_of_vg)\n",
    "\n",
    "    # Get the parent tag of that videogame as a starting point -- can go straight to find next if necessary\n",
    "    vg_tr_header = vg_str.find_parent('tr')\n",
    "\n",
    "    # Get the next tag after that table header. This\n",
    "    # represents an html row containing the midi, file size, who sequenced it, and comments\n",
    "    tr_tag = vg_tr_header.find_next('tr')\n",
    "\n",
    "    # Initialize loop var. When an html row is whitespace ONLY, the \n",
    "    # videogame has no more midi files associated with it.\n",
    "    is_whitespace = tr_tag.get_text().isspace()\n",
    "    midis = []\n",
    "    while(not is_whitespace):\n",
    "        # Get the midi\n",
    "        midi = tr_tag.find('a').get('href')\n",
    "        midis.append(midi)\n",
    "\n",
    "        # Get the next tag\n",
    "        tr_tag = tr_tag.find_next('tr')\n",
    "        \n",
    "        # Update loop var\n",
    "        is_whitespace = tr_tag.get_text().isspace()\n",
    "\n",
    "    # Return the list of midis \n",
    "    return midis"
   ]
  },
  {
   "cell_type": "code",
   "execution_count": 8,
   "metadata": {},
   "outputs": [],
   "source": [
    "# Function to request those videogames and write them to file\n",
    "def scrape_midis(midis, write_to_dir=os.path.join(os.getcwd(), 'data')):\n",
    "    \"\"\"Function accepts list of midis, downloads, and writes them to disk.\n",
    "    \n",
    "    :param midis: <class 'list'> of midi names to scrape from VGMusic.\n",
    "    :param write_to_dir: <class 'str'> The folder to write the data to. \n",
    "        Defaults to 'cwd/data/'\n",
    "    :return: None\n",
    "    \"\"\"\n",
    "    # URL to scrape\n",
    "    URL = \"https://www.vgmusic.com/music/console/nintendo/nes/\"\n",
    "\n",
    "    # Check if the write directory exists and create it if not\n",
    "    if not os.path.exists(write_to_dir):\n",
    "        os.makedirs(write_to_dir)\n",
    "\n",
    "    # Iterate through midis and write to disk\n",
    "    for midi in midis:\n",
    "        # Download the data\n",
    "        time.sleep(random.uniform(1,5))\n",
    "        data_res = requests.get(URL + '/' + midi, allow_redirects=True).content\n",
    "\n",
    "        # Write the data\n",
    "        with open(os.path.join(write_to_dir, midi), \"wb\") as fobj:\n",
    "            fobj.write(data_res)\n",
    "\n",
    "    # Void function\n",
    "    return None"
   ]
  },
  {
   "source": [
    "# Demo Scraper Below"
   ],
   "cell_type": "markdown",
   "metadata": {}
  },
  {
   "cell_type": "code",
   "execution_count": 9,
   "metadata": {},
   "outputs": [
    {
     "output_type": "stream",
     "name": "stdout",
     "text": [
      "1943.mid 1943sab.mid 1943-lev1.mid 43pbos1.mid 43pbos12.mid 1943-lev3.mid 1943-Lev3Win.mid 1943lost.mid 1943won.mid 1943boss.mid 1943boss1.mid 1943BossWin.mid\n"
     ]
    }
   ],
   "source": [
    "# Videogame 1943 -- the second videogame on VGMusic's NES website\n",
    "name_of_vg = \"1943\"\n",
    "midis_1943 = list_of_vg_midis(name_of_vg)\n",
    "print(*midis_1943)"
   ]
  },
  {
   "cell_type": "code",
   "execution_count": 10,
   "metadata": {},
   "outputs": [],
   "source": [
    "# Download the data and write to disk\n",
    "scrape_midis(midis_1943, write_to_dir=\"demo_data/\")"
   ]
  },
  {
   "source": [
    "# Download Castlevania MIDIs -- Please don't run this code. We already have the data."
   ],
   "cell_type": "markdown",
   "metadata": {}
  },
  {
   "cell_type": "code",
   "execution_count": 12,
   "metadata": {},
   "outputs": [
    {
     "output_type": "stream",
     "name": "stdout",
     "text": [
      "We already have the data. Please don't scrape again!\n"
     ]
    }
   ],
   "source": [
    "# List of castlevania game titles from which MIDI files will be downloaded\n",
    "if (not os.path.exists('./data/Castlevania')):\n",
    "    castlevania_list = [\"Castlevania\", \"Castlevania 2\", \"Castlevania 3\"]\n",
    "\n",
    "    # Download the music for these games\n",
    "    for game in castlevania_list:\n",
    "        midis = list_of_vg_midis(game)\n",
    "        scrape_midis(midis, write_to_dir=\"data/\" + game)\n",
    "else:\n",
    "    print(\"We already have the data. Please don't scrape again!\")"
   ]
  },
  {
   "source": [
    "# The Exploration Of Webpage HTML And The `<class 'bs4.BeautifulSoup()'>` Syntax That Led To The Above Functions"
   ],
   "cell_type": "markdown",
   "metadata": {}
  },
  {
   "cell_type": "code",
   "execution_count": null,
   "metadata": {},
   "outputs": [],
   "source": [
    "# URL to scrape\n",
    "URL = \"https://www.vgmusic.com/music/console/nintendo/nes/\"\n",
    "\n",
    "# Get the HTTP response content for this URL\n",
    "time.sleep(random.uniform(1, 5))\n",
    "res = requests.get(URL).content\n",
    "\n",
    "# Get the soup obj\n",
    "soup = bs4.BeautifulSoup(res, \"html.parser\")"
   ]
  },
  {
   "cell_type": "code",
   "execution_count": null,
   "metadata": {},
   "outputs": [],
   "source": [
    "# Find all td headers\n",
    "#tds = [str(i) for i in  soup.find_all(\"td\")]\n",
    "tds = [str(i) for i in soup.find_all(\"td\", class_=\"header\")]"
   ]
  },
  {
   "cell_type": "code",
   "execution_count": null,
   "metadata": {
    "tags": []
   },
   "outputs": [],
   "source": [
    "# Find the tds worth looking for \n",
    "# NOT A GOOD STRATEGY BECAUSE THIS IS JUST LIST ITERATION\n",
    "game_matching_ix = []\n",
    "for ix, i in enumerate(tds):\n",
    "    try:\n",
    "        found_game = i.index(\"Castlevania\")\n",
    "        index = ix\n",
    "        result = i\n",
    "        game_matching_ix.append(index)\n",
    "    except:\n",
    "        pass\n",
    "print(result)\n",
    "print(index)\n",
    "print(game_matching_ix)"
   ]
  },
  {
   "cell_type": "code",
   "execution_count": null,
   "metadata": {},
   "outputs": [],
   "source": [
    "# The names of all mid files on webpage\n",
    "links = []\n",
    "for link in soup.find_all('a'):\n",
    "    try:\n",
    "        if (link.get('href').endswith('.mid')):\n",
    "            links.append(link.get('href'))\n",
    "    except:\n",
    "        pass\n",
    "for i in range (10):\n",
    "    print(i)\n",
    "    print(links[i])\n",
    "    print()"
   ]
  },
  {
   "cell_type": "code",
   "execution_count": null,
   "metadata": {},
   "outputs": [],
   "source": [
    "# Get the HTTP Response content of one of these links\n",
    "time.sleep(random.uniform(1,5))\n",
    "link_res = requests.get(URL + '/' + links[0], allow_redirects=True).content"
   ]
  },
  {
   "cell_type": "code",
   "execution_count": null,
   "metadata": {},
   "outputs": [],
   "source": [
    "# Write that binary response content to file\n",
    "with open(os.path.join(os.getcwd(), links[0]), 'wb') as fobj:\n",
    "    fobj.write(link_res)"
   ]
  },
  {
   "source": [
    "# Get *specific* videogame music\n",
    "The parent-sibling bs4 tree can be traversed to acquire different video game links. Each videogame section (e.g. Castlevania) ends when a whitespace is encountered (i.e.,an empty row). Iterating through through sucessive next siblings until a whitespace text is encountered is how a videogame section may be delineated and how those links may then be scraped. *Below is an example of that for the first video game section on VGMusic's site.*"
   ],
   "cell_type": "markdown",
   "metadata": {}
  },
  {
   "cell_type": "code",
   "execution_count": null,
   "metadata": {},
   "outputs": [],
   "source": [
    "# Find the tag that matches this string\n",
    "vg_str = soup.find(string=\"10-Yard Fight\")\n",
    "\n",
    "# Get the 'table header' <tr> tag which is the parent of the string\n",
    "vg_tr_tag = vg_str.find_parent('tr')\n",
    "print(\"FIND_PARENT\")\n",
    "print(vg_tr_tag)\n",
    "print()\n",
    "\n",
    "# Get text on that tag\n",
    "vg_tr_tag_text = vg_tr_tag.get_text()\n",
    "print('GET_TEXT:')\n",
    "print(vg_tr_tag)\n",
    "print()\n",
    "\n",
    "# Get the midi for the first song immediately after the 'table header'\n",
    "print(\"GET('href')\")\n",
    "vg_first_song_mid = vg_tr_tag.find_next('tr').find('a').get('href')\n",
    "print(vg_first_song_mid)\n",
    "print()\n",
    "\n",
    "# Next sibling\n",
    "print(\"FIND_NEXT('tr')\")\n",
    "vg_next_tr_tag = vg_tr_tag.find_next('tr').find_next('tr')\n",
    "print(vg_next_tr_tag)\n",
    "print()\n",
    "\n",
    "# Get the whitespace\n",
    "print(\"CHECK FOR WHITESPACE BY USING GET_TEXT()\")\n",
    "whitespace = vg_next_tr_tag.get_text()\n",
    "print(\"Is the whitespace found the same as the unicode xa0 (No-break space)?\", 'Yes' if (whitespace.isspace()) else 'No')"
   ]
  },
  {
   "cell_type": "code",
   "execution_count": null,
   "metadata": {},
   "outputs": [],
   "source": [
    "# Prototype scraper for first Videogame\n",
    "\n",
    "# Name of videogame\n",
    "name_of_vg = \"10-Yard Fight\"\n",
    "\n",
    "# Find where the name of the videogame is in the bs4 tree\n",
    "vg_str = soup.find(string=name_of_vg)\n",
    "\n",
    "# Get the parent tag of that string as a starting point \n",
    "vg_tr_header = vg_str.find_parent('tr')\n",
    "print(\"HEADER\")\n",
    "print(vg_tr_header)\n",
    "print()\n",
    "\n",
    "# Get the next tag\n",
    "tr_tag = vg_tr_header.find_next('tr')\n",
    "print(\"NEXT TAG\")\n",
    "print(tr_tag)\n",
    "print()\n",
    "\n",
    "# Get initial tag whitespace bool\n",
    "is_whitespace = tr_tag.get_text().isspace()\n",
    "midis = []\n",
    "while(not is_whitespace):\n",
    "    # Get the midi\n",
    "    midi = tr_tag.find('a').get('href')\n",
    "    midis.append(midi)\n",
    "\n",
    "    # Get the next tag\n",
    "    tr_tag = tr_tag.find_next('tr')\n",
    "    \n",
    "    # Update loop var\n",
    "    is_whitespace = tr_tag.get_text().isspace()\n",
    "print(midis)"
   ]
  },
  {
   "cell_type": "code",
   "execution_count": null,
   "metadata": {},
   "outputs": [],
   "source": []
  }
 ]
}