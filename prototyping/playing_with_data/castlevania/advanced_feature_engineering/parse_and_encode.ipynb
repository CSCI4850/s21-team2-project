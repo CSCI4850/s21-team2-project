{
 "metadata": {
  "language_info": {
   "codemirror_mode": {
    "name": "ipython",
    "version": 3
   },
   "file_extension": ".py",
   "mimetype": "text/x-python",
   "name": "python",
   "nbconvert_exporter": "python",
   "pygments_lexer": "ipython3",
   "version": "3.6.13"
  },
  "orig_nbformat": 2,
  "kernelspec": {
   "name": "python3613jvsc74a57bd00decfbe5a70d8910007bbce8687584085ed75017321d767c169c5dae039dd627",
   "display_name": "Python 3.6.13 64-bit ('vgm-tf-keras-gpu': conda)"
  }
 },
 "nbformat": 4,
 "nbformat_minor": 2,
 "cells": [
  {
   "cell_type": "code",
   "execution_count": 15,
   "metadata": {},
   "outputs": [],
   "source": [
    "# Imports\n",
    "from music21 import *\n",
    "from IPython.display import display\n",
    "import zipfile\n",
    "import pickle\n",
    "import numpy as np"
   ]
  },
  {
   "cell_type": "code",
   "execution_count": 16,
   "metadata": {},
   "outputs": [],
   "source": [
    "## Note: Both these data structures are normalized in terms of key\n",
    "## so they can be used for training \n",
    "\n",
    "# Scores list is a list of scores (file names to be read)\n",
    "path_to_transposed_midis = r'C:\\Dev\\python\\CS4850\\TEAM2_LOCAL_DATA\\Transposed_Songs'\n",
    "scores_list = os.listdir(path_to_transposed_midis)"
   ]
  },
  {
   "cell_type": "code",
   "execution_count": 17,
   "metadata": {},
   "outputs": [
    {
     "output_type": "stream",
     "name": "stdout",
     "text": [
      "The n= 0 extraction of notes, chords, and durations is complete. 4 in the song.\n",
      "The n= 1 extraction of notes, chords, and durations is complete. 8 in the song.\n",
      "The n= 2 extraction of notes, chords, and durations is complete. 11 in the song.\n",
      "The n= 3 extraction of notes, chords, and durations is complete. 14 in the song.\n",
      "The n= 4 extraction of notes, chords, and durations is complete. 18 in the song.\n",
      "The n= 5 extraction of notes, chords, and durations is complete. 31 in the song.\n",
      "The n= 6 extraction of notes, chords, and durations is complete. 32 in the song.\n",
      "The n= 7 extraction of notes, chords, and durations is complete. 32 in the song.\n",
      "The n= 8 extraction of notes, chords, and durations is complete. 78 in the song.\n",
      "The n= 9 extraction of notes, chords, and durations is complete. 78 in the song.\n",
      "The n= 10 extraction of notes, chords, and durations is complete. 134 in the song.\n",
      "The n= 11 extraction of notes, chords, and durations is complete. 138 in the song.\n",
      "The n= 12 extraction of notes, chords, and durations is complete. 148 in the song.\n",
      "The n= 13 extraction of notes, chords, and durations is complete. 148 in the song.\n",
      "The n= 14 extraction of notes, chords, and durations is complete. 232 in the song.\n",
      "The n= 15 extraction of notes, chords, and durations is complete. 235 in the song.\n",
      "The n= 16 extraction of notes, chords, and durations is complete. 235 in the song.\n",
      "The n= 17 extraction of notes, chords, and durations is complete. 246 in the song.\n",
      "The n= 18 extraction of notes, chords, and durations is complete. 257 in the song.\n",
      "The n= 19 extraction of notes, chords, and durations is complete. 299 in the song.\n",
      "The n= 20 extraction of notes, chords, and durations is complete. 364 in the song.\n",
      "The n= 21 extraction of notes, chords, and durations is complete. 527 in the song.\n",
      "The n= 22 extraction of notes, chords, and durations is complete. 527 in the song.\n",
      "The n= 23 extraction of notes, chords, and durations is complete. 527 in the song.\n",
      "The n= 24 extraction of notes, chords, and durations is complete. 662 in the song.\n",
      "The n= 25 extraction of notes, chords, and durations is complete. 665 in the song.\n",
      "The n= 26 extraction of notes, chords, and durations is complete. 668 in the song.\n",
      "The n= 27 extraction of notes, chords, and durations is complete. 739 in the song.\n",
      "The n= 28 extraction of notes, chords, and durations is complete. 739 in the song.\n",
      "The n= 29 extraction of notes, chords, and durations is complete. 763 in the song.\n",
      "The n= 30 extraction of notes, chords, and durations is complete. 764 in the song.\n",
      "The n= 31 extraction of notes, chords, and durations is complete. 764 in the song.\n",
      "The n= 32 extraction of notes, chords, and durations is complete. 766 in the song.\n",
      "The n= 33 extraction of notes, chords, and durations is complete. 770 in the song.\n",
      "The n= 34 extraction of notes, chords, and durations is complete. 770 in the song.\n",
      "The n= 35 extraction of notes, chords, and durations is complete. 892 in the song.\n",
      "The n= 36 extraction of notes, chords, and durations is complete. 901 in the song.\n",
      "The n= 37 extraction of notes, chords, and durations is complete. 916 in the song.\n",
      "The n= 38 extraction of notes, chords, and durations is complete. 918 in the song.\n",
      "The n= 39 extraction of notes, chords, and durations is complete. 921 in the song.\n",
      "The n= 40 extraction of notes, chords, and durations is complete. 924 in the song.\n",
      "The n= 41 extraction of notes, chords, and durations is complete. 925 in the song.\n",
      "The n= 42 extraction of notes, chords, and durations is complete. 925 in the song.\n",
      "The n= 43 extraction of notes, chords, and durations is complete. 928 in the song.\n",
      "The n= 44 extraction of notes, chords, and durations is complete. 975 in the song.\n",
      "The n= 45 extraction of notes, chords, and durations is complete. 995 in the song.\n",
      "The n= 46 extraction of notes, chords, and durations is complete. 1246 in the song.\n",
      "The n= 47 extraction of notes, chords, and durations is complete. 1246 in the song.\n",
      "The n= 48 extraction of notes, chords, and durations is complete. 1249 in the song.\n",
      "The n= 49 extraction of notes, chords, and durations is complete. 1253 in the song.\n",
      "The n= 50 extraction of notes, chords, and durations is complete. 1310 in the song.\n",
      "The n= 51 extraction of notes, chords, and durations is complete. 1311 in the song.\n",
      "The n= 52 extraction of notes, chords, and durations is complete. 1311 in the song.\n",
      "The n= 53 extraction of notes, chords, and durations is complete. 1311 in the song.\n",
      "The n= 54 extraction of notes, chords, and durations is complete. 1856 in the song.\n",
      "The n= 55 extraction of notes, chords, and durations is complete. 1856 in the song.\n",
      "The n= 56 extraction of notes, chords, and durations is complete. 1905 in the song.\n",
      "The n= 57 extraction of notes, chords, and durations is complete. 2037 in the song.\n",
      "The n= 58 extraction of notes, chords, and durations is complete. 2157 in the song.\n",
      "Wall time: 2.93 s\n"
     ]
    }
   ],
   "source": [
    "%%time\n",
    "\n",
    "# Extract notes and chords\n",
    "# Empty lists of lists for chords and durations\n",
    "# Each element of the list is a list of chords (or durations) respectively for \n",
    "# a given score\n",
    "chords_ds = [[] for _ in scores_list]   # Holds chords and notes\n",
    "durations_ds = [[] for _ in scores_list]\n",
    "\n",
    "num_rests = 0\n",
    "for ix, score in enumerate(scores_list):\n",
    "\n",
    "    # Parse the file with music21 \n",
    "    score = converter.parse(os.path.join(path_to_transposed_midis, score))\n",
    "\n",
    "    # All notes/chords in the score\n",
    "    notes_to_parse = score.recurse()\n",
    "\n",
    "    for element in notes_to_parse:\n",
    "\n",
    "        if (isinstance(element, note.Note)):\n",
    "\n",
    "            # Append to lists\n",
    "            chords_ds[ix].append(element.pitch.nameWithOctave)\n",
    "            durations_ds[ix].append(element.duration.quarterLength)\n",
    "\n",
    "        elif (isinstance(element, note.Rest)):\n",
    "            num_rests += 1\n",
    "\n",
    "        elif (isinstance(element, chord.Chord)):\n",
    "\n",
    "            # Append to lists\n",
    "            chords_ds[ix].append(''.join(str(n) for n in element.pitches))  # .normalOrder attr would work here, too\n",
    "            durations_ds[ix].append(element.duration.quarterLength)\n",
    "    \n",
    "    # Track progress\n",
    "    print(f'The {ix}th song has been processed of notes, chords, and durations. There are {num_rests} in the song.')"
   ]
  },
  {
   "cell_type": "code",
   "execution_count": 27,
   "metadata": {},
   "outputs": [
    {
     "output_type": "execute_result",
     "data": {
      "text/plain": [
       "['A3E4',\n",
       " 'A3E4',\n",
       " 'A4A5',\n",
       " 'A3E4',\n",
       " 'A3A4',\n",
       " 'E3E4',\n",
       " 'G3G4',\n",
       " 'A3A4',\n",
       " 'A3E4',\n",
       " 'A3E4',\n",
       " 'A4A5',\n",
       " 'A3E4',\n",
       " 'A3A4',\n",
       " 'E3E4',\n",
       " 'G3G4',\n",
       " 'A3A4',\n",
       " 'A3E4',\n",
       " 'A3E4',\n",
       " 'A4A5',\n",
       " 'A3E4',\n",
       " 'A3A4',\n",
       " 'E3E4',\n",
       " 'G3G4',\n",
       " 'A3A4',\n",
       " 'A3E4',\n",
       " 'A3E4',\n",
       " 'A4A5',\n",
       " 'A3E4',\n",
       " 'A3A4',\n",
       " 'E3E4',\n",
       " 'G3G4',\n",
       " 'A3A4',\n",
       " 'E5',\n",
       " 'E-5',\n",
       " 'D5',\n",
       " 'C#5',\n",
       " 'C5',\n",
       " 'B4',\n",
       " 'B-4',\n",
       " 'A3E4',\n",
       " 'A3E4',\n",
       " 'A4A5',\n",
       " 'A3E4',\n",
       " 'A3A4',\n",
       " 'E3E4',\n",
       " 'G3G4',\n",
       " 'A3A4',\n",
       " 'A3E4',\n",
       " 'A3E4',\n",
       " 'A4A5',\n",
       " 'A3E4',\n",
       " 'A3A4',\n",
       " 'E3E4',\n",
       " 'G3G4',\n",
       " 'A3A4',\n",
       " 'A3E4',\n",
       " 'A3E4',\n",
       " 'A4A5',\n",
       " 'A3E4',\n",
       " 'A3A4',\n",
       " 'E3E4',\n",
       " 'G3G4',\n",
       " 'A3A4',\n",
       " 'A3E4',\n",
       " 'A3E4',\n",
       " 'A4A5',\n",
       " 'A3E4',\n",
       " 'A3A4',\n",
       " 'E3E4',\n",
       " 'G3G4',\n",
       " 'A3A4',\n",
       " 'E5',\n",
       " 'E-5',\n",
       " 'D5',\n",
       " 'C#5',\n",
       " 'C5',\n",
       " 'B4',\n",
       " 'B-4']"
      ]
     },
     "metadata": {},
     "execution_count": 27
    }
   ],
   "source": [
    "# Chord_ds\n",
    "chords_ds[10]"
   ]
  },
  {
   "source": [
    "# Encode it"
   ],
   "cell_type": "markdown",
   "metadata": {}
  },
  {
   "cell_type": "code",
   "execution_count": 30,
   "metadata": {},
   "outputs": [
    {
     "output_type": "execute_result",
     "data": {
      "text/plain": [
       "2642"
      ]
     },
     "metadata": {},
     "execution_count": 30
    }
   ],
   "source": [
    "#flattened\n",
    "flattend_chords = [item for sublist in chords_ds for item in sublist]\n",
    "flattend_chords.index('E3')"
   ]
  },
  {
   "cell_type": "code",
   "execution_count": 13,
   "metadata": {},
   "outputs": [
    {
     "output_type": "stream",
     "name": "stdout",
     "text": [
      "1759\n26\n"
     ]
    }
   ],
   "source": [
    "### Encoding map\n",
    "\n",
    "## Mapping chords to integers\n",
    "# The chords_ds is a list of lists so to find unique elements (i.e. chord/note combos)\n",
    "# in the data, I must inspect an \n",
    "unique_chords = np.unique([item for sublist in chords_ds for item in sublist])  # Flatten list of lists\n",
    "chord_to_int = dict(zip(unique_chords, list(range(0, len(unique_chords)))))  # Uncertain\n",
    "\n",
    "## Map unique durations to integers\n",
    "unique_durations = np.unique([item for sublist in durations_ds for item in sublist])\n",
    "duration_to_int = dict(zip(unique_durations, list(range(0, len(unique_durations)))))\n",
    "\n",
    "# Print number of unique notes and chords\n",
    "print(len(unique_chords))\n",
    "\n",
    "# Print number of unique durations\n",
    "print(len(unique_durations))\n",
    "\n",
    "### Decoding map\n",
    "int_to_chord = {integer:chord for chord, integer in chord_to_int.items()}\n",
    "int_to_duration = {integer:duration for duration, integer in duration_to_int.items()}"
   ]
  },
  {
   "cell_type": "code",
   "execution_count": null,
   "metadata": {},
   "outputs": [],
   "source": []
  },
  {
   "cell_type": "code",
   "execution_count": 14,
   "metadata": {},
   "outputs": [],
   "source": [
    "# Pickle the results\n",
    "with open('../../pickled_data/pickled_tentatively_transposed_feature_and_encoding_dict', 'wb') as fobj:\n",
    "    pickle.dump({\n",
    "        'chords_ds': chords_ds,\n",
    "        'durations_ds':durations_ds,\n",
    "        'chord_to_int': chord_to_int,\n",
    "        'duration_to_int': duration_to_int,\n",
    "        'int_to_chord': int_to_chord,\n",
    "        'int_to_duration': int_to_duration,\n",
    "\n",
    "    }, fobj)"
   ]
  },
  {
   "cell_type": "code",
   "execution_count": null,
   "metadata": {},
   "outputs": [],
   "source": []
  }
 ]
}